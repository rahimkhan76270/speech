{
 "cells": [
  {
   "cell_type": "code",
   "execution_count": 1,
   "metadata": {},
   "outputs": [
    {
     "name": "stderr",
     "output_type": "stream",
     "text": [
      "2024-08-26 16:13:17.441196: E external/local_xla/xla/stream_executor/cuda/cuda_fft.cc:485] Unable to register cuFFT factory: Attempting to register factory for plugin cuFFT when one has already been registered\n",
      "2024-08-26 16:13:20.625297: E external/local_xla/xla/stream_executor/cuda/cuda_dnn.cc:8454] Unable to register cuDNN factory: Attempting to register factory for plugin cuDNN when one has already been registered\n",
      "2024-08-26 16:13:21.613237: E external/local_xla/xla/stream_executor/cuda/cuda_blas.cc:1452] Unable to register cuBLAS factory: Attempting to register factory for plugin cuBLAS when one has already been registered\n",
      "2024-08-26 16:13:28.093965: I tensorflow/core/platform/cpu_feature_guard.cc:210] This TensorFlow binary is optimized to use available CPU instructions in performance-critical operations.\n",
      "To enable the following instructions: AVX2 FMA, in other operations, rebuild TensorFlow with the appropriate compiler flags.\n",
      "2024-08-26 16:13:53.863385: W tensorflow/compiler/tf2tensorrt/utils/py_utils.cc:38] TF-TRT Warning: Could not find TensorRT\n"
     ]
    }
   ],
   "source": [
    "import tensorflow as tf\n",
    "import numpy as np  "
   ]
  },
  {
   "cell_type": "code",
   "execution_count": 16,
   "metadata": {},
   "outputs": [],
   "source": [
    "from keras.layers import Dense,Conv1D,Conv1DTranspose,PReLU,LayerNormalization\n",
    "from keras import Model,Sequential"
   ]
  },
  {
   "cell_type": "code",
   "execution_count": 3,
   "metadata": {},
   "outputs": [],
   "source": [
    "class Encoder(Model):\n",
    "    def __init__(self,L:int,N:int)->None:\n",
    "        super(Encoder,self).__init__()\n",
    "        \"\"\"\n",
    "        N: number of basis signals\n",
    "        L: Length of audio segment\n",
    "        \"\"\"\n",
    "        self.L=L\n",
    "        self.N=N\n",
    "        self.conv1d_U=Conv1D(filters=self.N,kernel_size=self.L,strides=self.L//2,use_bias=False,activation='relu',data_format='channels_last')\n",
    "    \n",
    "    def call(self,x):\n",
    "        return self.conv1d_U(x)\n"
   ]
  },
  {
   "cell_type": "code",
   "execution_count": 4,
   "metadata": {},
   "outputs": [],
   "source": [
    "encoder=Encoder(10,50)"
   ]
  },
  {
   "cell_type": "code",
   "execution_count": 5,
   "metadata": {},
   "outputs": [],
   "source": [
    "x=np.random.rand(1,10,1)"
   ]
  },
  {
   "cell_type": "code",
   "execution_count": 6,
   "metadata": {},
   "outputs": [
    {
     "name": "stderr",
     "output_type": "stream",
     "text": [
      "2024-08-26 16:14:27.638459: E external/local_xla/xla/stream_executor/cuda/cuda_driver.cc:266] failed call to cuInit: UNKNOWN ERROR (100)\n"
     ]
    }
   ],
   "source": [
    "out=encoder(x)"
   ]
  },
  {
   "cell_type": "code",
   "execution_count": 7,
   "metadata": {},
   "outputs": [
    {
     "data": {
      "text/plain": [
       "TensorShape([1, 1, 50])"
      ]
     },
     "execution_count": 7,
     "metadata": {},
     "output_type": "execute_result"
    }
   ],
   "source": [
    "out.shape"
   ]
  },
  {
   "cell_type": "code",
   "execution_count": 8,
   "metadata": {},
   "outputs": [],
   "source": [
    "class Decoder(Model):\n",
    "    def __init__(self,L:int,N:int)->None:\n",
    "        super(Decoder,self).__init__()\n",
    "        self.L=L\n",
    "        self.N=N\n",
    "        self.conv1d_trans=Conv1DTranspose(filters=1,kernel_size=L,strides=L//2,use_bias=False,activation='relu',data_format='channels_last')\n",
    "    \n",
    "    def call(self,x):\n",
    "        return self.conv1d_trans(x)\n"
   ]
  },
  {
   "cell_type": "code",
   "execution_count": 9,
   "metadata": {},
   "outputs": [],
   "source": [
    "decoder=Decoder(10,50)"
   ]
  },
  {
   "cell_type": "code",
   "execution_count": 10,
   "metadata": {},
   "outputs": [],
   "source": [
    "decoder_out=decoder(out)"
   ]
  },
  {
   "cell_type": "code",
   "execution_count": 11,
   "metadata": {},
   "outputs": [
    {
     "data": {
      "text/plain": [
       "TensorShape([1, 10, 1])"
      ]
     },
     "execution_count": 11,
     "metadata": {},
     "output_type": "execute_result"
    }
   ],
   "source": [
    "decoder_out.shape"
   ]
  },
  {
   "cell_type": "code",
   "execution_count": 19,
   "metadata": {},
   "outputs": [],
   "source": [
    "class Conv1D_block(Model):\n",
    "    def __init__(self,out_channels=512,kernel_size=3,dilation=1):\n",
    "        super(Conv1D_block,self).__init__()\n",
    "        self.out_channels=out_channels\n",
    "        self.kernel_size=kernel_size\n",
    "        self.dilation=dilation\n",
    "        self.conv1x1=Conv1D(filters=self.out_channels,kernel_size=1,data_format='channels_last')\n",
    "        self.PReLu1=PReLU()\n",
    "        self.norm_1=LayerNormalization()\n",
    "        self.pad=self.dilation*(self.kernel_size-1)\n",
    "        self.dwconv=Conv1D(filters=self.out_channels,kernel_size=self.kernel_size,groups=self.out_channels,padding='same',dilation_rate=self.dilation)\n",
    "        self.Sc_conv=Conv1D(filters=self.out_channels,kernel_size=1,use_bias=True)\n",
    "    \n",
    "    def call(self,x):\n",
    "        c=self.conv1x1(x)\n",
    "        c=self.PReLu1(c)\n",
    "        c=self.norm_1(c)\n",
    "        c=self.dwconv(c)\n",
    "        c=self.Sc_conv(c)\n",
    "        return x+c\n",
    "    "
   ]
  },
  {
   "cell_type": "code",
   "execution_count": 22,
   "metadata": {},
   "outputs": [],
   "source": [
    "class ConvTasnet(Model):\n",
    "    def __init__(self,\n",
    "                 N=512,\n",
    "                 L=16,\n",
    "                 B=128,\n",
    "                 H=512,\n",
    "                 P=3,\n",
    "                 X=8,\n",
    "                 R=3,\n",
    "                 nspk=2):\n",
    "        super(ConvTasnet,self).__init__()\n",
    "        self.encoder=Encoder(L=L,N=N)\n",
    "        self.layer_norm=LayerNormalization()\n",
    "        self.bottle_neck=Conv1D(filters=B,kernel_size=1)\n",
    "        self.seperation=self._sequential_repeat(R,X,out_channels=H,kernel_size=P)\n",
    "        self.gen_mask=Conv1D(filters=N*nspk,kernel_size=1)\n",
    "        self.decoder=Decoder(L,N)\n",
    "        self.nspk=nspk\n",
    "\n",
    "    def _sequential_block(self,num_blocks,**block_kwargs):\n",
    "        conv1d_block_list=[\n",
    "            Conv1D_block(**block_kwargs,dilation=2**i) for i in range(num_blocks)\n",
    "        ]\n",
    "        return Sequential(conv1d_block_list)\n",
    "    \n",
    "    def _sequential_repeat(self,num_repeat,num_block,**block_kwargs):\n",
    "        repeat_list=[self._sequential_block(num_blocks=num_block,**block_kwargs) for _ in range(num_repeat)]\n",
    "        return Sequential(repeat_list)\n",
    "\n",
    "    def call(self,x):\n",
    "        w=self.encoder(x)\n",
    "        e=self.layer_norm(w)\n",
    "        e=self.bottle_neck(e)\n",
    "        e=self.seperation(e)\n",
    "        m=self.gen_mask(e)\n",
    "        d = [w*m[i] for i in range(self.nspk)]\n",
    "        s = [self.decoder(d[i]) for i in range(self.nspk)]\n",
    "        return s\n",
    "    "
   ]
  },
  {
   "cell_type": "code",
   "execution_count": null,
   "metadata": {},
   "outputs": [],
   "source": []
  }
 ],
 "metadata": {
  "kernelspec": {
   "display_name": "Python 3",
   "language": "python",
   "name": "python3"
  },
  "language_info": {
   "codemirror_mode": {
    "name": "ipython",
    "version": 3
   },
   "file_extension": ".py",
   "mimetype": "text/x-python",
   "name": "python",
   "nbconvert_exporter": "python",
   "pygments_lexer": "ipython3",
   "version": "3.12.0"
  }
 },
 "nbformat": 4,
 "nbformat_minor": 2
}
