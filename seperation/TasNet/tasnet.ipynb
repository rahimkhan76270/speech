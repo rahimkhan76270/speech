{
 "cells": [
  {
   "cell_type": "code",
   "execution_count": 1,
   "metadata": {},
   "outputs": [],
   "source": [
    "import torch\n",
    "import torch.nn as nn\n",
    "import torch.nn.functional as F\n",
    "from torch.utils.data import DataLoader,Dataset\n",
    "import os,glob,random\n",
    "import librosa\n",
    "import soundfile as sf  \n",
    "import numpy as np\n",
    "from itertools import permutations\n",
    "from tqdm import tqdm\n",
    "from time import perf_counter"
   ]
  },
  {
   "cell_type": "markdown",
   "metadata": {},
   "source": [
    "# TasNet"
   ]
  },
  {
   "cell_type": "code",
   "execution_count": 2,
   "metadata": {},
   "outputs": [],
   "source": [
    "class Encoder(nn.Module):\n",
    "    def __init__(self,L,N):\n",
    "        super(Encoder,self).__init__()\n",
    "        \"\"\"\n",
    "        L: Number of input channels(number of samples per segment)\n",
    "        N: Number of output channels(number of basis signals)\n",
    "        \"\"\"\n",
    "        self.L = L\n",
    "        self.N = N\n",
    "        self.EPS = 1e-8\n",
    "        self.conv1d_U=nn.Conv1d(in_channels=L,out_channels=N,kernel_size=1,stride=1,bias=False)\n",
    "        self.conv1d_V=nn.Conv1d(in_channels=L,out_channels=N,kernel_size=1,stride=1,bias=False)\n",
    "    \n",
    "    def forward(self,mixture):\n",
    "        \"\"\"\n",
    "        mixture:Tensor of shape [B,K,L] where K are the number of segment being processed at once\n",
    "        output: Tensor of shape [B,K,N] where N are the number of basis signals\n",
    "        \"\"\"\n",
    "        B,K,L=mixture.size()\n",
    "        norm_coef=torch.norm(mixture,p=2,dim=2,keepdim=True)\n",
    "        normed_mixture=mixture/(norm_coef+self.EPS)\n",
    "        normed_mixture=torch.unsqueeze(normed_mixture.view(-1,L),2)\n",
    "        conv=F.relu(self.conv1d_U(normed_mixture))\n",
    "        gate=F.sigmoid(self.conv1d_V(normed_mixture))\n",
    "        mixture_w=conv*gate\n",
    "        mixture_w=mixture_w.view(B,K,self.N)\n",
    "        return mixture_w,norm_coef"
   ]
  },
  {
   "cell_type": "code",
   "execution_count": 3,
   "metadata": {},
   "outputs": [],
   "source": [
    "class Separator(nn.Module):\n",
    "    def __init__(self,N:int,hidden_size,num_layers,bidirectional=False,nspk=2) -> None:\n",
    "        super(Separator,self).__init__()\n",
    "        self.N=N\n",
    "        self.hidden_size=hidden_size\n",
    "        self.bidirectional=bidirectional\n",
    "        self.num_layers=num_layers\n",
    "        self.nspk=nspk\n",
    "        self.layer_norm=nn.LayerNorm(N)\n",
    "        self.LSTM=nn.LSTM(input_size=N,hidden_size=hidden_size,num_layers=num_layers,bidirectional=bidirectional,batch_first=True)\n",
    "        fc_in_dim=hidden_size*2 if bidirectional else hidden_size\n",
    "        self.fc=nn.Linear(fc_in_dim,nspk*N)\n",
    "    \n",
    "    def forward(self,mixture_w):\n",
    "        \"\"\"\n",
    "        mixture_w: Tensor of shape [B,K,N]\n",
    "        output: Tensor of shape [B,K,nspk,N]\n",
    "        \"\"\"\n",
    "        B,K,N=mixture_w.size()\n",
    "        normed_mixture_w=self.layer_norm(mixture_w)\n",
    "        output,_=self.LSTM(normed_mixture_w)\n",
    "        score=self.fc(output)\n",
    "        score=score.view(B,K,self.nspk,N)\n",
    "        est_mask=F.softmax(score,dim=2)\n",
    "        return est_mask"
   ]
  },
  {
   "cell_type": "code",
   "execution_count": 4,
   "metadata": {},
   "outputs": [],
   "source": [
    "class Decoder(nn.Module):\n",
    "    def __init__(self,N,L):\n",
    "        super(Decoder,self).__init__()\n",
    "        self.N=N\n",
    "        self.L=L\n",
    "        self.basis_signals=nn.Linear(N,L,bias=False)\n",
    "    \n",
    "    def forward(self,mixture_w,est_mask,norm_coef):\n",
    "        \"\"\"\n",
    "        mixture_w: Tensor of shape [B,K,N]\n",
    "        est_mask: Tensor of shape [B,K,nspk,N]\n",
    "        norm_coef: Tensor of shape [B,K,1]\n",
    "        output: Tensor of shape [B,nspk,K,L]\n",
    "        \"\"\"\n",
    "        source_w=torch.unsqueeze(mixture_w,2)*est_mask\n",
    "        est_source=self.basis_signals(source_w)\n",
    "        norm_coef=torch.unsqueeze(norm_coef,2)\n",
    "        est_source=est_source*norm_coef\n",
    "        est_source=est_source.permute(0,2,1,3).contiguous()\n",
    "        return est_source"
   ]
  },
  {
   "cell_type": "code",
   "execution_count": 5,
   "metadata": {},
   "outputs": [],
   "source": [
    "class TasNet(nn.Module):\n",
    "    def __init__(self,L,N,hidden_size,num_layers,bidirectional=False,nspk=2):\n",
    "        super(TasNet,self).__init__()\n",
    "        self.L=L\n",
    "        self.N=N\n",
    "        self.hidden_size=hidden_size\n",
    "        self.num_layers=num_layers\n",
    "        self.bidirectional=bidirectional\n",
    "        self.nspk=nspk\n",
    "        self.encoder=Encoder(L,N)\n",
    "        self.separator=Separator(N,hidden_size,num_layers,bidirectional,nspk)\n",
    "        self.decoder=Decoder(N,L)\n",
    "    \n",
    "    def forward(self,mixture):\n",
    "        mixture_w,norm_coef=self.encoder(mixture)\n",
    "        est_mask=self.separator(mixture_w)\n",
    "        est_source=self.decoder(mixture_w,est_mask,norm_coef)\n",
    "        return est_source"
   ]
  },
  {
   "cell_type": "code",
   "execution_count": 6,
   "metadata": {},
   "outputs": [],
   "source": [
    "class AudioDataset(Dataset):\n",
    "    def __init__(self,L:int,K:int,folder_path:str,sample_rate=8000) -> None:\n",
    "        self.L=L\n",
    "        self.K=K\n",
    "        self.folder_path=folder_path\n",
    "        self.sample_rate=sample_rate\n",
    "        self.files=glob.glob(os.path.join(folder_path,'*.wav'))\n",
    "        self.audio_info=self.load_audio_info()\n",
    "    \n",
    "    def __len__(self):\n",
    "        return len(self.audio_info['path'])\n",
    "    \n",
    "    def __getitem__(self,idx):\n",
    "        audio_path=self.audio_info['path'][idx]\n",
    "        start=self.audio_info['start'][idx]/self.sample_rate\n",
    "        end=self.audio_info['end'][idx]/self.sample_rate\n",
    "        audio1,_=librosa.load(audio_path,sr=self.sample_rate,mono=True,offset=start,duration=end-start)\n",
    "        # load a random audio from the data\n",
    "        i=random.randint(a=0,b=len(self.audio_info['path'])-2)\n",
    "        while i==idx:\n",
    "            i=random.randint(a=0,b=len(self.audio_info['path'])-2)\n",
    "        \n",
    "        audio_path=self.audio_info['path'][i]\n",
    "        start=self.audio_info['start'][i]/self.sample_rate\n",
    "        end=self.audio_info['end'][i]/self.sample_rate\n",
    "        audio2,_=librosa.load(audio_path,sr=self.sample_rate,mono=True,offset=start,duration=end-start)\n",
    "        mixture=audio1+audio2\n",
    "        mixture=librosa.util.normalize(mixture)\n",
    "        audio1=librosa.util.normalize(audio1)\n",
    "        audio2=librosa.util.normalize(audio2)\n",
    "        mixture=torch.from_numpy(mixture.reshape(self.K,self.L))\n",
    "        sources=torch.from_numpy(np.array([audio1.reshape(self.K,self.L),audio2.reshape(self.K,self.L)]))\n",
    "        return mixture,sources\n",
    "\n",
    "    def load_audio_info(self):\n",
    "        audio_info=dict(path=list(),start=list(),end=list())\n",
    "        for file in self.files:\n",
    "            info=sf.info(os.path.join(self.folder_path,file))\n",
    "            duration=int(info.duration*self.sample_rate)\n",
    "            chunk_length=self.L*self.K\n",
    "            start=0\n",
    "            for i in range(chunk_length,duration,chunk_length):\n",
    "                if(i-start)==chunk_length:\n",
    "                    audio_info['path'].append(info.name)\n",
    "                    audio_info['start'].append(start)\n",
    "                    audio_info['end'].append(i)\n",
    "                    start=i\n",
    "        return audio_info\n",
    "        "
   ]
  },
  {
   "cell_type": "code",
   "execution_count": 7,
   "metadata": {},
   "outputs": [],
   "source": [
    "L=1000\n",
    "N=500\n",
    "hidden_size=128\n",
    "num_layers=3\n",
    "bidirectional=True\n",
    "nspk=2\n",
    "num_epochs=100"
   ]
  },
  {
   "cell_type": "code",
   "execution_count": 8,
   "metadata": {},
   "outputs": [],
   "source": [
    "model=TasNet(L,N,hidden_size,num_layers,bidirectional,nspk)"
   ]
  },
  {
   "cell_type": "code",
   "execution_count": 9,
   "metadata": {},
   "outputs": [],
   "source": [
    "x=torch.randn(2,3,500)"
   ]
  },
  {
   "cell_type": "code",
   "execution_count": 57,
   "metadata": {},
   "outputs": [
    {
     "data": {
      "text/plain": [
       "3193648"
      ]
     },
     "execution_count": 57,
     "metadata": {},
     "output_type": "execute_result"
    }
   ],
   "source": [
    "sum(p.numel() for p in model.parameters() if p.requires_grad)"
   ]
  },
  {
   "cell_type": "code",
   "execution_count": 11,
   "metadata": {},
   "outputs": [],
   "source": [
    "out=model(x)"
   ]
  },
  {
   "cell_type": "code",
   "execution_count": 12,
   "metadata": {},
   "outputs": [
    {
     "data": {
      "text/plain": [
       "torch.Size([2, 2, 3, 500])"
      ]
     },
     "execution_count": 12,
     "metadata": {},
     "output_type": "execute_result"
    }
   ],
   "source": [
    "out.shape"
   ]
  },
  {
   "cell_type": "code",
   "execution_count": 10,
   "metadata": {},
   "outputs": [],
   "source": [
    "audio_folder=\"/mnt/d/Programs/Python/PW/projects/asteroid/zip-hindi-2k\""
   ]
  },
  {
   "cell_type": "code",
   "execution_count": 58,
   "metadata": {},
   "outputs": [],
   "source": [
    "dataset=AudioDataset(L=1000,K=8,folder_path=audio_folder)"
   ]
  },
  {
   "cell_type": "code",
   "execution_count": 59,
   "metadata": {},
   "outputs": [
    {
     "data": {
      "text/plain": [
       "(torch.Size([8, 1000]), torch.Size([2, 8, 1000]))"
      ]
     },
     "execution_count": 59,
     "metadata": {},
     "output_type": "execute_result"
    }
   ],
   "source": [
    "dataset[0][0].shape,dataset[0][1].shape"
   ]
  },
  {
   "cell_type": "code",
   "execution_count": 16,
   "metadata": {},
   "outputs": [
    {
     "name": "stdout",
     "output_type": "stream",
     "text": [
      "cuda\n"
     ]
    }
   ],
   "source": [
    "device=torch.device('cuda' if torch.cuda.is_available() else 'cpu')\n",
    "print(device)"
   ]
  },
  {
   "cell_type": "code",
   "execution_count": 60,
   "metadata": {},
   "outputs": [],
   "source": [
    "model=model.to(device)"
   ]
  },
  {
   "cell_type": "code",
   "execution_count": 67,
   "metadata": {},
   "outputs": [],
   "source": [
    "dataloader=DataLoader(dataset,batch_size=800,shuffle=True)"
   ]
  },
  {
   "cell_type": "code",
   "execution_count": 20,
   "metadata": {},
   "outputs": [
    {
     "data": {
      "text/plain": [
       "[(0, 1), (1, 0)]"
      ]
     },
     "execution_count": 20,
     "metadata": {},
     "output_type": "execute_result"
    }
   ],
   "source": [
    "list(permutations([0,1]))"
   ]
  },
  {
   "cell_type": "markdown",
   "metadata": {},
   "source": [
    "# SI-SNR\n",
    " SI-SNR is a metric that measures the quality of the separated audio signals. It is defined as the ratio of the energy of the target speaker to the energy of the interference speaker plus noise. The higher the SI-SNR, the better the separation quality. \\\n",
    "The formula for SI-SNR is given by:\n",
    "$$\n",
    "s_{target} = \\frac{<s',s>s}{<s,s>} \\\\\n",
    "e_{noise} = s' - s_{target} \\\\\n",
    "$$\n",
    "$$\n",
    "SI-SNR = 10 \\log_{10} \\frac{||s_{target}||^2}{||e_{noise}||^2}\n",
    "$$\n",
    "where $s_{t}$ is the target speaker, $\\hat{s}_{t}$ is the separated speaker, and $e_{t}$ is the noise. \n"
   ]
  },
  {
   "cell_type": "code",
   "execution_count": 36,
   "metadata": {},
   "outputs": [],
   "source": [
    "# SI-SNR with PIT(Permutation Invariant Training)\n",
    "def calculate_si_snr(source:torch.tensor,estimate:torch.tensor,eps=1e-8):\n",
    "    \"\"\"\n",
    "    source: Tensor of shape [B,C,K,L]\n",
    "    estimate: Tensor of shape [B,C,K,L]\n",
    "    eps: small value to avoid division by zero\n",
    "    output: Tensor of shape [B,K]\n",
    "    B: Batch size\n",
    "    C: Number of speakers\n",
    "    K: Number of segments\n",
    "    L: Number of samples per segment\n",
    "    T=K*L\n",
    "    \"\"\"\n",
    "    B,C,K,L=source.size()\n",
    "    flat_source=source.view(B,C,-1) # [B,C,T]\n",
    "    flat_estimate=estimate.view(B,C,-1) # [B,C,T]\n",
    "    s_target=torch.unsqueeze(flat_source,dim=1) # [B,1,C,T]\n",
    "    s_estimate=torch.unsqueeze(flat_estimate,dim=2) # [B,C,1,T]\n",
    "    pair_wise_dot=torch.sum(s_target*s_estimate,dim=3,keepdim=True) # [B,C,C,1]\n",
    "    s_target_energy=torch.sum(s_target**2,dim=3,keepdim=True)+eps # [B,1,C,1]\n",
    "    pairwise_proj=pair_wise_dot*s_target/s_target_energy # [B,C,C,T]\n",
    "    e_noise=s_estimate-pairwise_proj # [B,C,C,T]\n",
    "    pair_wise_si_snr=torch.sum(pairwise_proj**2,dim=3)/(torch.sum(e_noise**2,dim=3)+eps) # [B,C,C]\n",
    "    pair_wise_si_snr=10*torch.log10(pair_wise_si_snr+eps) # [B,C,C]\n",
    "    perms = source.new_tensor(list(permutations(range(C))), dtype=torch.long)\n",
    "    # one-hot, [C!, C, C]\n",
    "    index = torch.unsqueeze(perms, 2)\n",
    "    perms_one_hot = source.new_zeros((*perms.size(), C)).scatter_(2, index, 1)\n",
    "    # [B, C!] <- [B, C, C] einsum [C!, C, C], SI-SNR sum of each permutation\n",
    "    snr_set = torch.einsum('bij,pij->bp', [pair_wise_si_snr, perms_one_hot])\n",
    "    # max_snr = torch.gather(snr_set, 1, max_snr_idx.view(-1, 1))  # [B, 1]\n",
    "    max_snr, _ = torch.max(snr_set, dim=1, keepdim=True)\n",
    "    max_snr /= C\n",
    "    loss=0-torch.mean(max_snr)\n",
    "    return loss"
   ]
  },
  {
   "cell_type": "code",
   "execution_count": 65,
   "metadata": {},
   "outputs": [],
   "source": [
    "optimizer=torch.optim.Adam(model.parameters(),lr=1e-3)"
   ]
  },
  {
   "cell_type": "code",
   "execution_count": 68,
   "metadata": {},
   "outputs": [
    {
     "name": "stderr",
     "output_type": "stream",
     "text": [
      "Training: 100%|██████████| 11/11 [02:37<00:00, 14.28s/it]\n",
      "Epochs:   1%|          | 1/100 [02:37<4:19:06, 157.04s/it]"
     ]
    },
    {
     "name": "stdout",
     "output_type": "stream",
     "text": [
      "Epoch: 1/100 Loss: 222.48468589782715 Time: 142.58121526899959\n"
     ]
    },
    {
     "name": "stderr",
     "output_type": "stream",
     "text": [
      "Training: 100%|██████████| 11/11 [02:49<00:00, 15.38s/it]\n",
      "Epochs:   2%|▏         | 2/100 [05:26<4:28:12, 164.20s/it]"
     ]
    },
    {
     "name": "stdout",
     "output_type": "stream",
     "text": [
      "Epoch: 2/100 Loss: 204.53797149658203 Time: 143.11632652700064\n"
     ]
    },
    {
     "name": "stderr",
     "output_type": "stream",
     "text": [
      "Training: 100%|██████████| 11/11 [02:31<00:00, 13.78s/it]\n",
      "Epochs:   3%|▎         | 3/100 [07:57<4:16:09, 158.45s/it]"
     ]
    },
    {
     "name": "stdout",
     "output_type": "stream",
     "text": [
      "Epoch: 3/100 Loss: 186.55970573425293 Time: 137.26371982299952\n"
     ]
    },
    {
     "name": "stderr",
     "output_type": "stream",
     "text": [
      "Training: 100%|██████████| 11/11 [02:21<00:00, 12.86s/it]\n",
      "Epochs:   4%|▍         | 4/100 [10:19<4:02:49, 151.77s/it]"
     ]
    },
    {
     "name": "stdout",
     "output_type": "stream",
     "text": [
      "Epoch: 4/100 Loss: 169.7868480682373 Time: 127.2203563990006\n"
     ]
    },
    {
     "name": "stderr",
     "output_type": "stream",
     "text": [
      "Training: 100%|██████████| 11/11 [02:21<00:00, 12.86s/it]\n",
      "Epochs:   5%|▌         | 5/100 [12:40<3:54:26, 148.07s/it]"
     ]
    },
    {
     "name": "stdout",
     "output_type": "stream",
     "text": [
      "Epoch: 5/100 Loss: 155.81644344329834 Time: 127.15654144499968\n"
     ]
    },
    {
     "name": "stderr",
     "output_type": "stream",
     "text": [
      "Training: 100%|██████████| 11/11 [02:40<00:00, 14.63s/it]\n",
      "Epochs:   6%|▌         | 6/100 [15:21<3:58:49, 152.44s/it]"
     ]
    },
    {
     "name": "stdout",
     "output_type": "stream",
     "text": [
      "Epoch: 6/100 Loss: 144.58962154388428 Time: 143.72755607199997\n"
     ]
    },
    {
     "name": "stderr",
     "output_type": "stream",
     "text": [
      "Training: 100%|██████████| 11/11 [02:28<00:00, 13.51s/it]\n",
      "Epochs:   7%|▋         | 7/100 [17:50<3:54:19, 151.18s/it]"
     ]
    },
    {
     "name": "stdout",
     "output_type": "stream",
     "text": [
      "Epoch: 7/100 Loss: 136.26745319366455 Time: 141.45053883200035\n"
     ]
    },
    {
     "name": "stderr",
     "output_type": "stream",
     "text": [
      "Training: 100%|██████████| 11/11 [02:37<00:00, 14.29s/it]\n",
      "Epochs:   8%|▊         | 8/100 [20:27<3:54:44, 153.09s/it]"
     ]
    },
    {
     "name": "stdout",
     "output_type": "stream",
     "text": [
      "Epoch: 8/100 Loss: 131.58578300476074 Time: 151.79753036500006\n"
     ]
    },
    {
     "name": "stderr",
     "output_type": "stream",
     "text": [
      "Training: 100%|██████████| 11/11 [02:33<00:00, 13.92s/it]\n",
      "Epochs:   9%|▉         | 9/100 [23:00<3:52:12, 153.11s/it]"
     ]
    },
    {
     "name": "stdout",
     "output_type": "stream",
     "text": [
      "Epoch: 9/100 Loss: 125.48340797424316 Time: 153.1508325170007\n"
     ]
    },
    {
     "name": "stderr",
     "output_type": "stream",
     "text": [
      "Training: 100%|██████████| 11/11 [02:29<00:00, 13.58s/it]\n",
      "Epochs:  10%|█         | 10/100 [25:30<3:47:55, 151.95s/it]"
     ]
    },
    {
     "name": "stdout",
     "output_type": "stream",
     "text": [
      "Epoch: 10/100 Loss: 120.37688446044922 Time: 149.34733808199962\n"
     ]
    },
    {
     "name": "stderr",
     "output_type": "stream",
     "text": [
      "Training: 100%|██████████| 11/11 [02:26<00:00, 13.31s/it]\n",
      "Epochs:  11%|█         | 11/100 [27:56<3:42:51, 150.24s/it]"
     ]
    },
    {
     "name": "stdout",
     "output_type": "stream",
     "text": [
      "Epoch: 11/100 Loss: 115.4372091293335 Time: 146.36212526500003\n"
     ]
    },
    {
     "name": "stderr",
     "output_type": "stream",
     "text": [
      "Training: 100%|██████████| 11/11 [02:29<00:00, 13.56s/it]\n",
      "Epochs:  12%|█▏        | 12/100 [30:25<3:39:51, 149.90s/it]"
     ]
    },
    {
     "name": "stdout",
     "output_type": "stream",
     "text": [
      "Epoch: 12/100 Loss: 112.33608341217041 Time: 149.13731325200024\n"
     ]
    },
    {
     "name": "stderr",
     "output_type": "stream",
     "text": [
      "Training: 100%|██████████| 11/11 [02:30<00:00, 13.72s/it]\n",
      "Epochs:  13%|█▎        | 13/100 [32:56<3:37:49, 150.22s/it]"
     ]
    },
    {
     "name": "stdout",
     "output_type": "stream",
     "text": [
      "Epoch: 13/100 Loss: 109.68339157104492 Time: 150.94518325799982\n"
     ]
    },
    {
     "name": "stderr",
     "output_type": "stream",
     "text": [
      "Training: 100%|██████████| 11/11 [02:27<00:00, 13.43s/it]\n",
      "Epochs:  14%|█▍        | 14/100 [35:24<3:34:14, 149.47s/it]"
     ]
    },
    {
     "name": "stdout",
     "output_type": "stream",
     "text": [
      "Epoch: 14/100 Loss: 106.67328548431396 Time: 147.74703666299956\n"
     ]
    },
    {
     "name": "stderr",
     "output_type": "stream",
     "text": [
      "Training: 100%|██████████| 11/11 [02:26<00:00, 13.36s/it]\n",
      "Epochs:  15%|█▌        | 15/100 [37:51<3:30:40, 148.71s/it]"
     ]
    },
    {
     "name": "stdout",
     "output_type": "stream",
     "text": [
      "Epoch: 15/100 Loss: 102.66371250152588 Time: 146.95557555800042\n"
     ]
    },
    {
     "name": "stderr",
     "output_type": "stream",
     "text": [
      "Training: 100%|██████████| 11/11 [02:25<00:00, 13.23s/it]\n",
      "Epochs:  16%|█▌        | 16/100 [40:16<3:26:52, 147.76s/it]"
     ]
    },
    {
     "name": "stdout",
     "output_type": "stream",
     "text": [
      "Epoch: 16/100 Loss: 99.7813720703125 Time: 145.55681887500032\n"
     ]
    },
    {
     "name": "stderr",
     "output_type": "stream",
     "text": [
      "Training: 100%|██████████| 11/11 [02:25<00:00, 13.20s/it]\n",
      "Epochs:  17%|█▋        | 17/100 [42:41<3:23:19, 146.98s/it]"
     ]
    },
    {
     "name": "stdout",
     "output_type": "stream",
     "text": [
      "Epoch: 17/100 Loss: 98.39365577697754 Time: 145.1516074359988\n"
     ]
    },
    {
     "name": "stderr",
     "output_type": "stream",
     "text": [
      "Training: 100%|██████████| 11/11 [02:25<00:00, 13.27s/it]\n",
      "Epochs:  18%|█▊        | 18/100 [45:07<3:20:26, 146.67s/it]"
     ]
    },
    {
     "name": "stdout",
     "output_type": "stream",
     "text": [
      "Epoch: 18/100 Loss: 94.74980735778809 Time: 145.9460554310008\n"
     ]
    },
    {
     "name": "stderr",
     "output_type": "stream",
     "text": [
      "Training: 100%|██████████| 11/11 [02:23<00:00, 13.09s/it]\n",
      "Epochs:  19%|█▉        | 19/100 [47:31<3:16:54, 145.85s/it]"
     ]
    },
    {
     "name": "stdout",
     "output_type": "stream",
     "text": [
      "Epoch: 19/100 Loss: 93.99800109863281 Time: 143.94807640399995\n"
     ]
    },
    {
     "name": "stderr",
     "output_type": "stream",
     "text": [
      "Training: 100%|██████████| 11/11 [02:23<00:00, 13.09s/it]\n",
      "Epochs:  20%|██        | 20/100 [49:55<3:13:42, 145.28s/it]"
     ]
    },
    {
     "name": "stdout",
     "output_type": "stream",
     "text": [
      "Epoch: 20/100 Loss: 91.30178642272949 Time: 143.95008503499957\n"
     ]
    },
    {
     "name": "stderr",
     "output_type": "stream",
     "text": [
      "Training: 100%|██████████| 11/11 [02:23<00:00, 13.05s/it]\n",
      "Epochs:  21%|██        | 21/100 [52:19<3:10:36, 144.77s/it]"
     ]
    },
    {
     "name": "stdout",
     "output_type": "stream",
     "text": [
      "Epoch: 21/100 Loss: 90.88211965560913 Time: 143.5630422129998\n"
     ]
    },
    {
     "name": "stderr",
     "output_type": "stream",
     "text": [
      "Training: 100%|██████████| 11/11 [02:24<00:00, 13.12s/it]\n",
      "Epochs:  22%|██▏       | 22/100 [54:43<3:08:01, 144.64s/it]"
     ]
    },
    {
     "name": "stdout",
     "output_type": "stream",
     "text": [
      "Epoch: 22/100 Loss: 88.1833610534668 Time: 144.33311950500138\n"
     ]
    },
    {
     "name": "stderr",
     "output_type": "stream",
     "text": [
      "Training: 100%|██████████| 11/11 [02:22<00:00, 13.00s/it]\n",
      "Epochs:  23%|██▎       | 23/100 [57:06<3:04:58, 144.13s/it]"
     ]
    },
    {
     "name": "stdout",
     "output_type": "stream",
     "text": [
      "Epoch: 23/100 Loss: 85.94932508468628 Time: 142.96114570100144\n"
     ]
    },
    {
     "name": "stderr",
     "output_type": "stream",
     "text": [
      "Training: 100%|██████████| 11/11 [02:25<00:00, 13.25s/it]\n",
      "Epochs:  24%|██▍       | 24/100 [59:32<3:03:11, 144.62s/it]"
     ]
    },
    {
     "name": "stdout",
     "output_type": "stream",
     "text": [
      "Epoch: 24/100 Loss: 84.35712623596191 Time: 145.76880521699968\n"
     ]
    },
    {
     "name": "stderr",
     "output_type": "stream",
     "text": [
      "Training: 100%|██████████| 11/11 [02:23<00:00, 13.03s/it]\n",
      "Epochs:  25%|██▌       | 25/100 [1:01:55<3:00:17, 144.24s/it]"
     ]
    },
    {
     "name": "stdout",
     "output_type": "stream",
     "text": [
      "Epoch: 25/100 Loss: 82.816978931427 Time: 143.33630346099926\n"
     ]
    },
    {
     "name": "stderr",
     "output_type": "stream",
     "text": [
      "Training: 100%|██████████| 11/11 [02:23<00:00, 13.09s/it]\n",
      "Epochs:  26%|██▌       | 26/100 [1:04:19<2:57:47, 144.15s/it]"
     ]
    },
    {
     "name": "stdout",
     "output_type": "stream",
     "text": [
      "Epoch: 26/100 Loss: 81.3454179763794 Time: 143.9550864339999\n"
     ]
    },
    {
     "name": "stderr",
     "output_type": "stream",
     "text": [
      "Training: 100%|██████████| 11/11 [02:23<00:00, 13.01s/it]\n",
      "Epochs:  27%|██▋       | 27/100 [1:06:42<2:55:01, 143.85s/it]"
     ]
    },
    {
     "name": "stdout",
     "output_type": "stream",
     "text": [
      "Epoch: 27/100 Loss: 79.81549215316772 Time: 143.1492765160001\n"
     ]
    },
    {
     "name": "stderr",
     "output_type": "stream",
     "text": [
      "Training: 100%|██████████| 11/11 [02:24<00:00, 13.10s/it]\n",
      "Epochs:  28%|██▊       | 28/100 [1:09:07<2:52:43, 143.94s/it]"
     ]
    },
    {
     "name": "stdout",
     "output_type": "stream",
     "text": [
      "Epoch: 28/100 Loss: 78.5211877822876 Time: 144.14263246100018\n"
     ]
    },
    {
     "name": "stderr",
     "output_type": "stream",
     "text": [
      "Training: 100%|██████████| 11/11 [02:21<00:00, 12.89s/it]\n",
      "Epochs:  29%|██▉       | 29/100 [1:11:28<2:49:32, 143.28s/it]"
     ]
    },
    {
     "name": "stdout",
     "output_type": "stream",
     "text": [
      "Epoch: 29/100 Loss: 78.16467905044556 Time: 141.74493236999842\n"
     ]
    },
    {
     "name": "stderr",
     "output_type": "stream",
     "text": [
      "Training: 100%|██████████| 11/11 [02:23<00:00, 13.03s/it]\n",
      "Epochs:  30%|███       | 30/100 [1:13:52<2:47:11, 143.31s/it]"
     ]
    },
    {
     "name": "stdout",
     "output_type": "stream",
     "text": [
      "Epoch: 30/100 Loss: 75.2542634010315 Time: 143.36048304399992\n"
     ]
    },
    {
     "name": "stderr",
     "output_type": "stream",
     "text": [
      "Training: 100%|██████████| 11/11 [02:23<00:00, 13.09s/it]\n",
      "Epochs:  31%|███       | 31/100 [1:16:16<2:45:01, 143.50s/it]"
     ]
    },
    {
     "name": "stdout",
     "output_type": "stream",
     "text": [
      "Epoch: 31/100 Loss: 74.61617612838745 Time: 143.94991315800144\n"
     ]
    },
    {
     "name": "stderr",
     "output_type": "stream",
     "text": [
      "Training: 100%|██████████| 11/11 [02:23<00:00, 13.09s/it]\n",
      "Epochs:  32%|███▏      | 32/100 [1:18:40<2:42:47, 143.63s/it]"
     ]
    },
    {
     "name": "stdout",
     "output_type": "stream",
     "text": [
      "Epoch: 32/100 Loss: 73.06675481796265 Time: 143.95072098399942\n"
     ]
    },
    {
     "name": "stderr",
     "output_type": "stream",
     "text": [
      "Training: 100%|██████████| 11/11 [02:25<00:00, 13.25s/it]\n",
      "Epochs:  33%|███▎      | 33/100 [1:21:05<2:41:06, 144.28s/it]"
     ]
    },
    {
     "name": "stdout",
     "output_type": "stream",
     "text": [
      "Epoch: 33/100 Loss: 71.49845600128174 Time: 145.77232242399987\n"
     ]
    },
    {
     "name": "stderr",
     "output_type": "stream",
     "text": [
      "Training: 100%|██████████| 11/11 [02:23<00:00, 13.08s/it]\n",
      "Epochs:  34%|███▍      | 34/100 [1:23:29<2:38:35, 144.17s/it]"
     ]
    },
    {
     "name": "stdout",
     "output_type": "stream",
     "text": [
      "Epoch: 34/100 Loss: 69.68909931182861 Time: 143.93036129100074\n"
     ]
    },
    {
     "name": "stderr",
     "output_type": "stream",
     "text": [
      "Training: 100%|██████████| 11/11 [03:33<00:00, 19.43s/it]\n",
      "Epochs:  35%|███▌      | 35/100 [1:27:03<2:58:47, 165.04s/it]"
     ]
    },
    {
     "name": "stdout",
     "output_type": "stream",
     "text": [
      "Epoch: 35/100 Loss: 68.33493757247925 Time: 213.73481736400026\n"
     ]
    },
    {
     "name": "stderr",
     "output_type": "stream",
     "text": [
      "Training: 100%|██████████| 11/11 [02:21<00:00, 12.90s/it]\n",
      "Epochs:  36%|███▌      | 36/100 [1:29:25<2:48:39, 158.11s/it]"
     ]
    },
    {
     "name": "stdout",
     "output_type": "stream",
     "text": [
      "Epoch: 36/100 Loss: 66.88784122467041 Time: 141.94153070999891\n"
     ]
    },
    {
     "name": "stderr",
     "output_type": "stream",
     "text": [
      "Training: 100%|██████████| 11/11 [02:24<00:00, 13.18s/it]\n",
      "Epochs:  37%|███▋      | 37/100 [1:31:50<2:41:52, 154.16s/it]"
     ]
    },
    {
     "name": "stdout",
     "output_type": "stream",
     "text": [
      "Epoch: 37/100 Loss: 65.86032819747925 Time: 144.9506470010001\n"
     ]
    },
    {
     "name": "stderr",
     "output_type": "stream",
     "text": [
      "Training: 100%|██████████| 11/11 [02:23<00:00, 13.03s/it]\n",
      "Epochs:  38%|███▊      | 38/100 [1:34:13<2:35:57, 150.92s/it]"
     ]
    },
    {
     "name": "stdout",
     "output_type": "stream",
     "text": [
      "Epoch: 38/100 Loss: 64.8126916885376 Time: 143.35861033000037\n"
     ]
    },
    {
     "name": "stderr",
     "output_type": "stream",
     "text": [
      "Training: 100%|██████████| 11/11 [02:23<00:00, 13.05s/it]\n",
      "Epochs:  39%|███▉      | 39/100 [1:36:37<2:31:11, 148.71s/it]"
     ]
    },
    {
     "name": "stdout",
     "output_type": "stream",
     "text": [
      "Epoch: 39/100 Loss: 64.01849365234375 Time: 143.55487915199956\n"
     ]
    },
    {
     "name": "stderr",
     "output_type": "stream",
     "text": [
      "Training: 100%|██████████| 11/11 [02:25<00:00, 13.23s/it]\n",
      "Epochs:  40%|████      | 40/100 [1:39:02<2:27:45, 147.76s/it]"
     ]
    },
    {
     "name": "stdout",
     "output_type": "stream",
     "text": [
      "Epoch: 40/100 Loss: 61.04585409164429 Time: 145.54483196600086\n"
     ]
    },
    {
     "name": "stderr",
     "output_type": "stream",
     "text": [
      "Training: 100%|██████████| 11/11 [02:23<00:00, 13.09s/it]\n",
      "Epochs:  41%|████      | 41/100 [1:41:26<2:24:10, 146.62s/it]"
     ]
    },
    {
     "name": "stdout",
     "output_type": "stream",
     "text": [
      "Epoch: 41/100 Loss: 61.55712938308716 Time: 143.95245296800022\n"
     ]
    },
    {
     "name": "stderr",
     "output_type": "stream",
     "text": [
      "Training: 100%|██████████| 11/11 [02:24<00:00, 13.10s/it]\n",
      "Epochs:  42%|████▏     | 42/100 [1:43:50<2:21:01, 145.88s/it]"
     ]
    },
    {
     "name": "stdout",
     "output_type": "stream",
     "text": [
      "Epoch: 42/100 Loss: 60.35132694244385 Time: 144.15617001200008\n"
     ]
    },
    {
     "name": "stderr",
     "output_type": "stream",
     "text": [
      "Training: 100%|██████████| 11/11 [02:25<00:00, 13.21s/it]\n",
      "Epochs:  43%|████▎     | 43/100 [1:46:16<2:18:25, 145.72s/it]"
     ]
    },
    {
     "name": "stdout",
     "output_type": "stream",
     "text": [
      "Epoch: 43/100 Loss: 57.86133861541748 Time: 145.33605863699995\n"
     ]
    },
    {
     "name": "stderr",
     "output_type": "stream",
     "text": [
      "Training: 100%|██████████| 11/11 [02:23<00:00, 13.03s/it]\n",
      "Epochs:  44%|████▍     | 44/100 [1:48:39<2:15:20, 145.01s/it]"
     ]
    },
    {
     "name": "stdout",
     "output_type": "stream",
     "text": [
      "Epoch: 44/100 Loss: 58.913119316101074 Time: 143.34850611399997\n"
     ]
    },
    {
     "name": "stderr",
     "output_type": "stream",
     "text": [
      "Training: 100%|██████████| 11/11 [02:23<00:00, 13.09s/it]\n",
      "Epochs:  45%|████▌     | 45/100 [1:51:03<2:12:38, 144.69s/it]"
     ]
    },
    {
     "name": "stdout",
     "output_type": "stream",
     "text": [
      "Epoch: 45/100 Loss: 56.88757658004761 Time: 143.9613602520003\n"
     ]
    },
    {
     "name": "stderr",
     "output_type": "stream",
     "text": [
      "Training: 100%|██████████| 11/11 [02:25<00:00, 13.23s/it]\n",
      "Epochs:  46%|████▌     | 46/100 [1:53:29<2:10:27, 144.95s/it]"
     ]
    },
    {
     "name": "stdout",
     "output_type": "stream",
     "text": [
      "Epoch: 46/100 Loss: 56.830570697784424 Time: 145.55745571700027\n"
     ]
    },
    {
     "name": "stderr",
     "output_type": "stream",
     "text": [
      "Training: 100%|██████████| 11/11 [02:23<00:00, 13.07s/it]\n",
      "Epochs:  47%|████▋     | 47/100 [1:55:52<2:07:43, 144.59s/it]"
     ]
    },
    {
     "name": "stdout",
     "output_type": "stream",
     "text": [
      "Epoch: 47/100 Loss: 55.858739376068115 Time: 143.73480563799967\n"
     ]
    },
    {
     "name": "stderr",
     "output_type": "stream",
     "text": [
      "Training: 100%|██████████| 11/11 [02:23<00:00, 13.09s/it]\n",
      "Epochs:  48%|████▊     | 48/100 [1:58:16<2:05:08, 144.40s/it]"
     ]
    },
    {
     "name": "stdout",
     "output_type": "stream",
     "text": [
      "Epoch: 48/100 Loss: 55.68235969543457 Time: 143.95834909699988\n"
     ]
    },
    {
     "name": "stderr",
     "output_type": "stream",
     "text": [
      "Training: 100%|██████████| 11/11 [02:24<00:00, 13.12s/it]\n",
      "Epochs:  49%|████▉     | 49/100 [2:00:41<2:02:43, 144.39s/it]"
     ]
    },
    {
     "name": "stdout",
     "output_type": "stream",
     "text": [
      "Epoch: 49/100 Loss: 54.73190784454346 Time: 144.35629430900008\n"
     ]
    },
    {
     "name": "stderr",
     "output_type": "stream",
     "text": [
      "Training: 100%|██████████| 11/11 [02:23<00:00, 13.03s/it]\n",
      "Epochs:  50%|█████     | 50/100 [2:03:04<2:00:03, 144.07s/it]"
     ]
    },
    {
     "name": "stdout",
     "output_type": "stream",
     "text": [
      "Epoch: 50/100 Loss: 53.03669834136963 Time: 143.3413040430005\n"
     ]
    },
    {
     "name": "stderr",
     "output_type": "stream",
     "text": [
      "Training: 100%|██████████| 11/11 [02:24<00:00, 13.12s/it]\n",
      "Epochs:  51%|█████     | 51/100 [2:05:28<1:57:43, 144.16s/it]"
     ]
    },
    {
     "name": "stdout",
     "output_type": "stream",
     "text": [
      "Epoch: 51/100 Loss: 52.768497943878174 Time: 144.34982066200064\n"
     ]
    },
    {
     "name": "stderr",
     "output_type": "stream",
     "text": [
      "Training: 100%|██████████| 11/11 [02:24<00:00, 13.11s/it]\n",
      "Epochs:  52%|█████▏    | 52/100 [2:07:53<1:55:19, 144.16s/it]"
     ]
    },
    {
     "name": "stdout",
     "output_type": "stream",
     "text": [
      "Epoch: 52/100 Loss: 51.397419452667236 Time: 144.16469067099933\n"
     ]
    },
    {
     "name": "stderr",
     "output_type": "stream",
     "text": [
      "Training: 100%|██████████| 11/11 [02:24<00:00, 13.16s/it]\n",
      "Epochs:  53%|█████▎    | 53/100 [2:10:17<1:53:03, 144.33s/it]"
     ]
    },
    {
     "name": "stdout",
     "output_type": "stream",
     "text": [
      "Epoch: 53/100 Loss: 50.568994998931885 Time: 144.74154529800035\n"
     ]
    },
    {
     "name": "stderr",
     "output_type": "stream",
     "text": [
      "Training: 100%|██████████| 11/11 [02:24<00:00, 13.10s/it]\n",
      "Epochs:  54%|█████▍    | 54/100 [2:12:41<1:50:36, 144.28s/it]"
     ]
    },
    {
     "name": "stdout",
     "output_type": "stream",
     "text": [
      "Epoch: 54/100 Loss: 51.565826416015625 Time: 144.15420414599976\n"
     ]
    },
    {
     "name": "stderr",
     "output_type": "stream",
     "text": [
      "Training: 100%|██████████| 11/11 [02:23<00:00, 13.01s/it]\n",
      "Epochs:  55%|█████▌    | 55/100 [2:15:05<1:47:57, 143.94s/it]"
     ]
    },
    {
     "name": "stdout",
     "output_type": "stream",
     "text": [
      "Epoch: 55/100 Loss: 49.34139013290405 Time: 143.1570683810005\n"
     ]
    },
    {
     "name": "stderr",
     "output_type": "stream",
     "text": [
      "Training: 100%|██████████| 11/11 [02:23<00:00, 13.05s/it]\n",
      "Epochs:  56%|█████▌    | 56/100 [2:17:28<1:45:28, 143.83s/it]"
     ]
    },
    {
     "name": "stdout",
     "output_type": "stream",
     "text": [
      "Epoch: 56/100 Loss: 48.997844219207764 Time: 143.55298024700096\n"
     ]
    },
    {
     "name": "stderr",
     "output_type": "stream",
     "text": [
      "Training: 100%|██████████| 11/11 [02:23<00:00, 13.01s/it]\n",
      "Epochs:  57%|█████▋    | 57/100 [2:19:51<1:42:55, 143.62s/it]"
     ]
    },
    {
     "name": "stdout",
     "output_type": "stream",
     "text": [
      "Epoch: 57/100 Loss: 47.983006954193115 Time: 143.14977326500048\n"
     ]
    },
    {
     "name": "stderr",
     "output_type": "stream",
     "text": [
      "Training: 100%|██████████| 11/11 [02:24<00:00, 13.10s/it]\n",
      "Epochs:  58%|█████▊    | 58/100 [2:22:15<1:40:38, 143.78s/it]"
     ]
    },
    {
     "name": "stdout",
     "output_type": "stream",
     "text": [
      "Epoch: 58/100 Loss: 47.88825345039368 Time: 144.144214603999\n"
     ]
    },
    {
     "name": "stderr",
     "output_type": "stream",
     "text": [
      "Training: 100%|██████████| 11/11 [02:23<00:00, 13.07s/it]\n",
      "Epochs:  59%|█████▉    | 59/100 [2:24:39<1:38:14, 143.77s/it]"
     ]
    },
    {
     "name": "stdout",
     "output_type": "stream",
     "text": [
      "Epoch: 59/100 Loss: 47.33168363571167 Time: 143.75191736700071\n"
     ]
    },
    {
     "name": "stderr",
     "output_type": "stream",
     "text": [
      "Training: 100%|██████████| 11/11 [02:22<00:00, 12.96s/it]\n",
      "Epochs:  60%|██████    | 60/100 [2:27:02<1:35:36, 143.41s/it]"
     ]
    },
    {
     "name": "stdout",
     "output_type": "stream",
     "text": [
      "Epoch: 60/100 Loss: 46.0676589012146 Time: 142.55160058\n"
     ]
    },
    {
     "name": "stderr",
     "output_type": "stream",
     "text": [
      "Training: 100%|██████████| 11/11 [02:23<00:00, 13.09s/it]\n",
      "Epochs:  61%|██████    | 61/100 [2:29:26<1:33:19, 143.57s/it]"
     ]
    },
    {
     "name": "stdout",
     "output_type": "stream",
     "text": [
      "Epoch: 61/100 Loss: 46.30667209625244 Time: 143.94479861699983\n"
     ]
    },
    {
     "name": "stderr",
     "output_type": "stream",
     "text": [
      "Training: 100%|██████████| 11/11 [02:23<00:00, 13.05s/it]\n",
      "Epochs:  62%|██████▏   | 62/100 [2:31:49<1:30:55, 143.56s/it]"
     ]
    },
    {
     "name": "stdout",
     "output_type": "stream",
     "text": [
      "Epoch: 62/100 Loss: 45.711820125579834 Time: 143.54916159999993\n"
     ]
    },
    {
     "name": "stderr",
     "output_type": "stream",
     "text": [
      "Training: 100%|██████████| 11/11 [02:24<00:00, 13.10s/it]\n",
      "Epochs:  63%|██████▎   | 63/100 [2:34:13<1:28:38, 143.74s/it]"
     ]
    },
    {
     "name": "stdout",
     "output_type": "stream",
     "text": [
      "Epoch: 63/100 Loss: 44.70859217643738 Time: 144.15390620900143\n"
     ]
    },
    {
     "name": "stderr",
     "output_type": "stream",
     "text": [
      "Training: 100%|██████████| 11/11 [02:24<00:00, 13.10s/it]\n",
      "Epochs:  64%|██████▍   | 64/100 [2:36:38<1:26:19, 143.87s/it]"
     ]
    },
    {
     "name": "stdout",
     "output_type": "stream",
     "text": [
      "Epoch: 64/100 Loss: 44.44026708602905 Time: 144.15842691899888\n"
     ]
    },
    {
     "name": "stderr",
     "output_type": "stream",
     "text": [
      "Training: 100%|██████████| 11/11 [02:26<00:00, 13.30s/it]\n",
      "Epochs:  65%|██████▌   | 65/100 [2:39:04<1:24:21, 144.61s/it]"
     ]
    },
    {
     "name": "stdout",
     "output_type": "stream",
     "text": [
      "Epoch: 65/100 Loss: 46.26851439476013 Time: 146.34248988400032\n"
     ]
    },
    {
     "name": "stderr",
     "output_type": "stream",
     "text": [
      "Training: 100%|██████████| 11/11 [02:23<00:00, 13.09s/it]\n",
      "Epochs:  66%|██████▌   | 66/100 [2:41:28<1:21:50, 144.42s/it]"
     ]
    },
    {
     "name": "stdout",
     "output_type": "stream",
     "text": [
      "Epoch: 66/100 Loss: 43.895299196243286 Time: 143.96088218600016\n"
     ]
    },
    {
     "name": "stderr",
     "output_type": "stream",
     "text": [
      "Training: 100%|██████████| 11/11 [02:26<00:00, 13.30s/it]\n",
      "Epochs:  67%|██████▋   | 67/100 [2:43:54<1:19:44, 144.99s/it]"
     ]
    },
    {
     "name": "stdout",
     "output_type": "stream",
     "text": [
      "Epoch: 67/100 Loss: 44.14952731132507 Time: 146.3356687129999\n"
     ]
    },
    {
     "name": "stderr",
     "output_type": "stream",
     "text": [
      "Training: 100%|██████████| 11/11 [02:24<00:00, 13.16s/it]\n",
      "Epochs:  68%|██████▊   | 68/100 [2:46:19<1:17:17, 144.93s/it]"
     ]
    },
    {
     "name": "stdout",
     "output_type": "stream",
     "text": [
      "Epoch: 68/100 Loss: 45.12539052963257 Time: 144.76964447699902\n"
     ]
    },
    {
     "name": "stderr",
     "output_type": "stream",
     "text": [
      "Training: 100%|██████████| 11/11 [02:25<00:00, 13.25s/it]\n",
      "Epochs:  69%|██████▉   | 69/100 [2:48:45<1:15:00, 145.17s/it]"
     ]
    },
    {
     "name": "stdout",
     "output_type": "stream",
     "text": [
      "Epoch: 69/100 Loss: 44.47179961204529 Time: 145.74066024000058\n"
     ]
    },
    {
     "name": "stderr",
     "output_type": "stream",
     "text": [
      "Training: 100%|██████████| 11/11 [02:26<00:00, 13.32s/it]\n",
      "Epochs:  70%|███████   | 70/100 [2:51:11<1:12:47, 145.58s/it]"
     ]
    },
    {
     "name": "stdout",
     "output_type": "stream",
     "text": [
      "Epoch: 70/100 Loss: 43.424460887908936 Time: 146.546852554\n"
     ]
    },
    {
     "name": "stderr",
     "output_type": "stream",
     "text": [
      "Training: 100%|██████████| 11/11 [02:58<00:00, 16.23s/it]\n",
      "Epochs:  71%|███████   | 71/100 [2:54:10<1:15:09, 155.48s/it]"
     ]
    },
    {
     "name": "stdout",
     "output_type": "stream",
     "text": [
      "Epoch: 71/100 Loss: 41.39010691642761 Time: 178.58589285299968\n"
     ]
    },
    {
     "name": "stderr",
     "output_type": "stream",
     "text": [
      "Training: 100%|██████████| 11/11 [02:28<00:00, 13.47s/it]\n",
      "Epochs:  72%|███████▏  | 72/100 [2:56:38<1:11:31, 153.28s/it]"
     ]
    },
    {
     "name": "stdout",
     "output_type": "stream",
     "text": [
      "Epoch: 72/100 Loss: 40.778159379959106 Time: 148.1395442510002\n"
     ]
    },
    {
     "name": "stderr",
     "output_type": "stream",
     "text": [
      "Training: 100%|██████████| 11/11 [02:27<00:00, 13.38s/it]\n",
      "Epochs:  73%|███████▎  | 73/100 [2:59:05<1:08:08, 151.44s/it]"
     ]
    },
    {
     "name": "stdout",
     "output_type": "stream",
     "text": [
      "Epoch: 73/100 Loss: 40.4101505279541 Time: 147.14302888299972\n"
     ]
    },
    {
     "name": "stderr",
     "output_type": "stream",
     "text": [
      "Training: 100%|██████████| 11/11 [02:28<00:00, 13.52s/it]\n",
      "Epochs:  74%|███████▍  | 74/100 [3:01:34<1:05:16, 150.63s/it]"
     ]
    },
    {
     "name": "stdout",
     "output_type": "stream",
     "text": [
      "Epoch: 74/100 Loss: 38.96952676773071 Time: 148.75212698500036\n"
     ]
    },
    {
     "name": "stderr",
     "output_type": "stream",
     "text": [
      "Training: 100%|██████████| 11/11 [02:25<00:00, 13.25s/it]\n",
      "Epochs:  75%|███████▌  | 75/100 [3:04:00<1:02:09, 149.17s/it]"
     ]
    },
    {
     "name": "stdout",
     "output_type": "stream",
     "text": [
      "Epoch: 75/100 Loss: 39.921809673309326 Time: 145.74918646199876\n"
     ]
    },
    {
     "name": "stderr",
     "output_type": "stream",
     "text": [
      "Training: 100%|██████████| 11/11 [02:27<00:00, 13.38s/it]\n",
      "Epochs:  76%|███████▌  | 76/100 [3:06:27<59:25, 148.56s/it]  "
     ]
    },
    {
     "name": "stdout",
     "output_type": "stream",
     "text": [
      "Epoch: 76/100 Loss: 38.508291244506836 Time: 147.1506671060015\n"
     ]
    },
    {
     "name": "stderr",
     "output_type": "stream",
     "text": [
      "Training: 100%|██████████| 11/11 [02:26<00:00, 13.30s/it]\n",
      "Epochs:  77%|███████▋  | 77/100 [3:08:53<56:41, 147.90s/it]"
     ]
    },
    {
     "name": "stdout",
     "output_type": "stream",
     "text": [
      "Epoch: 77/100 Loss: 38.621994733810425 Time: 146.36125414400158\n"
     ]
    },
    {
     "name": "stderr",
     "output_type": "stream",
     "text": [
      "Training: 100%|██████████| 11/11 [02:26<00:00, 13.32s/it]\n",
      "Epochs:  78%|███████▊  | 78/100 [3:11:20<54:04, 147.49s/it]"
     ]
    },
    {
     "name": "stdout",
     "output_type": "stream",
     "text": [
      "Epoch: 78/100 Loss: 37.165539503097534 Time: 146.53794005300006\n"
     ]
    },
    {
     "name": "stderr",
     "output_type": "stream",
     "text": [
      "Training: 100%|██████████| 11/11 [02:25<00:00, 13.21s/it]\n",
      "Epochs:  79%|███████▉  | 79/100 [3:13:45<51:23, 146.85s/it]"
     ]
    },
    {
     "name": "stdout",
     "output_type": "stream",
     "text": [
      "Epoch: 79/100 Loss: 38.88856554031372 Time: 145.35223595299976\n"
     ]
    },
    {
     "name": "stderr",
     "output_type": "stream",
     "text": [
      "Training: 100%|██████████| 11/11 [02:26<00:00, 13.34s/it]\n",
      "Epochs:  80%|████████  | 80/100 [3:16:12<48:56, 146.82s/it]"
     ]
    },
    {
     "name": "stdout",
     "output_type": "stream",
     "text": [
      "Epoch: 80/100 Loss: 37.89687418937683 Time: 146.755250143\n"
     ]
    },
    {
     "name": "stderr",
     "output_type": "stream",
     "text": [
      "Training: 100%|██████████| 11/11 [02:27<00:00, 13.41s/it]\n",
      "Epochs:  81%|████████  | 81/100 [3:18:39<46:33, 147.04s/it]"
     ]
    },
    {
     "name": "stdout",
     "output_type": "stream",
     "text": [
      "Epoch: 81/100 Loss: 36.0511200428009 Time: 147.54143661600028\n"
     ]
    },
    {
     "name": "stderr",
     "output_type": "stream",
     "text": [
      "Training: 100%|██████████| 11/11 [02:28<00:00, 13.52s/it]\n",
      "Epochs:  82%|████████▏ | 82/100 [3:21:08<44:15, 147.55s/it]"
     ]
    },
    {
     "name": "stdout",
     "output_type": "stream",
     "text": [
      "Epoch: 82/100 Loss: 37.0791335105896 Time: 148.75846038599775\n"
     ]
    },
    {
     "name": "stderr",
     "output_type": "stream",
     "text": [
      "Training: 100%|██████████| 11/11 [02:26<00:00, 13.29s/it]\n",
      "Epochs:  83%|████████▎ | 83/100 [3:23:34<41:41, 147.14s/it]"
     ]
    },
    {
     "name": "stdout",
     "output_type": "stream",
     "text": [
      "Epoch: 83/100 Loss: 36.916221380233765 Time: 146.15459200999976\n"
     ]
    },
    {
     "name": "stderr",
     "output_type": "stream",
     "text": [
      "Training: 100%|██████████| 11/11 [02:26<00:00, 13.29s/it]\n",
      "Epochs:  84%|████████▍ | 84/100 [3:26:00<39:09, 146.84s/it]"
     ]
    },
    {
     "name": "stdout",
     "output_type": "stream",
     "text": [
      "Epoch: 84/100 Loss: 36.343759298324585 Time: 146.16000002099827\n"
     ]
    },
    {
     "name": "stderr",
     "output_type": "stream",
     "text": [
      "Training: 100%|██████████| 11/11 [02:28<00:00, 13.54s/it]\n",
      "Epochs:  85%|████████▌ | 85/100 [3:28:29<36:52, 147.48s/it]"
     ]
    },
    {
     "name": "stdout",
     "output_type": "stream",
     "text": [
      "Epoch: 85/100 Loss: 36.70704460144043 Time: 148.95706244900066\n"
     ]
    },
    {
     "name": "stderr",
     "output_type": "stream",
     "text": [
      "Training: 100%|██████████| 11/11 [02:26<00:00, 13.30s/it]\n",
      "Epochs:  86%|████████▌ | 86/100 [3:30:56<34:19, 147.14s/it]"
     ]
    },
    {
     "name": "stdout",
     "output_type": "stream",
     "text": [
      "Epoch: 86/100 Loss: 36.3805627822876 Time: 146.33498027799942\n"
     ]
    },
    {
     "name": "stderr",
     "output_type": "stream",
     "text": [
      "Training: 100%|██████████| 11/11 [02:27<00:00, 13.45s/it]\n",
      "Epochs:  87%|████████▋ | 87/100 [3:33:24<31:55, 147.38s/it]"
     ]
    },
    {
     "name": "stdout",
     "output_type": "stream",
     "text": [
      "Epoch: 87/100 Loss: 35.361780405044556 Time: 147.9396980800011\n"
     ]
    },
    {
     "name": "stderr",
     "output_type": "stream",
     "text": [
      "Training: 100%|██████████| 11/11 [02:26<00:00, 13.32s/it]\n",
      "Epochs:  88%|████████▊ | 88/100 [3:35:50<29:25, 147.13s/it]"
     ]
    },
    {
     "name": "stdout",
     "output_type": "stream",
     "text": [
      "Epoch: 88/100 Loss: 34.6097776889801 Time: 146.54667494599926\n"
     ]
    },
    {
     "name": "stderr",
     "output_type": "stream",
     "text": [
      "Training: 100%|██████████| 11/11 [02:29<00:00, 13.56s/it]\n",
      "Epochs:  89%|████████▉ | 89/100 [3:38:19<27:05, 147.73s/it]"
     ]
    },
    {
     "name": "stdout",
     "output_type": "stream",
     "text": [
      "Epoch: 89/100 Loss: 34.507757902145386 Time: 149.1439220989996\n"
     ]
    },
    {
     "name": "stderr",
     "output_type": "stream",
     "text": [
      "Training: 100%|██████████| 11/11 [02:28<00:00, 13.49s/it]\n",
      "Epochs:  90%|█████████ | 90/100 [3:40:48<24:39, 147.92s/it]"
     ]
    },
    {
     "name": "stdout",
     "output_type": "stream",
     "text": [
      "Epoch: 90/100 Loss: 35.13728404045105 Time: 148.36637045899988\n"
     ]
    },
    {
     "name": "stderr",
     "output_type": "stream",
     "text": [
      "Training: 100%|██████████| 11/11 [02:27<00:00, 13.41s/it]\n",
      "Epochs:  91%|█████████ | 91/100 [3:43:15<22:10, 147.81s/it]"
     ]
    },
    {
     "name": "stdout",
     "output_type": "stream",
     "text": [
      "Epoch: 91/100 Loss: 33.24251461029053 Time: 147.54279035200307\n"
     ]
    },
    {
     "name": "stderr",
     "output_type": "stream",
     "text": [
      "Training: 100%|██████████| 11/11 [02:26<00:00, 13.29s/it]\n",
      "Epochs:  92%|█████████▏| 92/100 [3:45:41<19:38, 147.31s/it]"
     ]
    },
    {
     "name": "stdout",
     "output_type": "stream",
     "text": [
      "Epoch: 92/100 Loss: 33.857255935668945 Time: 146.14329550200273\n"
     ]
    },
    {
     "name": "stderr",
     "output_type": "stream",
     "text": [
      "Training: 100%|██████████| 11/11 [02:25<00:00, 13.25s/it]\n",
      "Epochs:  93%|█████████▎| 93/100 [3:48:07<17:07, 146.84s/it]"
     ]
    },
    {
     "name": "stdout",
     "output_type": "stream",
     "text": [
      "Epoch: 93/100 Loss: 34.68957710266113 Time: 145.75317637899934\n"
     ]
    },
    {
     "name": "stderr",
     "output_type": "stream",
     "text": [
      "Training: 100%|██████████| 11/11 [02:28<00:00, 13.52s/it]\n",
      "Epochs:  94%|█████████▍| 94/100 [3:50:36<14:44, 147.41s/it]"
     ]
    },
    {
     "name": "stdout",
     "output_type": "stream",
     "text": [
      "Epoch: 94/100 Loss: 33.44966673851013 Time: 148.7479594630022\n"
     ]
    },
    {
     "name": "stderr",
     "output_type": "stream",
     "text": [
      "Training: 100%|██████████| 11/11 [02:26<00:00, 13.32s/it]\n",
      "Epochs:  95%|█████████▌| 95/100 [3:53:02<12:15, 147.16s/it]"
     ]
    },
    {
     "name": "stdout",
     "output_type": "stream",
     "text": [
      "Epoch: 95/100 Loss: 33.846524715423584 Time: 146.5574012620018\n"
     ]
    },
    {
     "name": "stderr",
     "output_type": "stream",
     "text": [
      "Training: 100%|██████████| 11/11 [02:26<00:00, 13.34s/it]\n",
      "Epochs:  96%|█████████▌| 96/100 [3:55:29<09:48, 147.04s/it]"
     ]
    },
    {
     "name": "stdout",
     "output_type": "stream",
     "text": [
      "Epoch: 96/100 Loss: 34.36861181259155 Time: 146.75017255000057\n"
     ]
    },
    {
     "name": "stderr",
     "output_type": "stream",
     "text": [
      "Training: 100%|██████████| 11/11 [02:27<00:00, 13.45s/it]\n",
      "Epochs:  97%|█████████▋| 97/100 [3:57:57<07:21, 147.31s/it]"
     ]
    },
    {
     "name": "stdout",
     "output_type": "stream",
     "text": [
      "Epoch: 97/100 Loss: 33.09628391265869 Time: 147.95004029899792\n"
     ]
    },
    {
     "name": "stderr",
     "output_type": "stream",
     "text": [
      "Training: 100%|██████████| 11/11 [02:27<00:00, 13.43s/it]\n",
      "Epochs:  98%|█████████▊| 98/100 [4:00:25<04:54, 147.44s/it]"
     ]
    },
    {
     "name": "stdout",
     "output_type": "stream",
     "text": [
      "Epoch: 98/100 Loss: 32.70990014076233 Time: 147.74559151200083\n"
     ]
    },
    {
     "name": "stderr",
     "output_type": "stream",
     "text": [
      "Training: 100%|██████████| 11/11 [02:25<00:00, 13.27s/it]\n",
      "Epochs:  99%|█████████▉| 99/100 [4:02:51<02:26, 146.99s/it]"
     ]
    },
    {
     "name": "stdout",
     "output_type": "stream",
     "text": [
      "Epoch: 99/100 Loss: 32.22913980484009 Time: 145.9459352369995\n"
     ]
    },
    {
     "name": "stderr",
     "output_type": "stream",
     "text": [
      "Training: 100%|██████████| 11/11 [02:30<00:00, 13.65s/it]\n",
      "Epochs: 100%|██████████| 100/100 [4:05:21<00:00, 147.22s/it]"
     ]
    },
    {
     "name": "stdout",
     "output_type": "stream",
     "text": [
      "Epoch: 100/100 Loss: 32.75156044960022 Time: 150.14777073699952\n"
     ]
    },
    {
     "name": "stderr",
     "output_type": "stream",
     "text": [
      "\n"
     ]
    }
   ],
   "source": [
    "model.train()\n",
    "for epoch in tqdm(range(num_epochs),desc=\"Epochs\"):\n",
    "    start=perf_counter()\n",
    "    train_loss=0\n",
    "    for mixture,sources in tqdm(dataloader,desc=\"Training\"):\n",
    "        mixture=mixture.to(device)\n",
    "        sources=sources.to(device)\n",
    "        # print(f\"mixture_shape: {mixture.shape}\")\n",
    "        # print(f\"sources_shape: {sources.shape}\")\n",
    "        est_sources=model(mixture)\n",
    "        optimizer.zero_grad()\n",
    "        # print(f\"est_sources_shape: {est_sources.shape}\")\n",
    "        si_snr=calculate_si_snr(sources,est_sources)\n",
    "        # print(f\"si_snr_shape: {si_snr.item()}\")\n",
    "        train_loss+=si_snr.item()\n",
    "        si_snr.backward()\n",
    "        optimizer.step()\n",
    "    end=perf_counter()\n",
    "    print(f\"Epoch: {epoch+1}/{num_epochs} Loss: {train_loss} Time: {end-start}\")\n"
   ]
  },
  {
   "cell_type": "code",
   "execution_count": 69,
   "metadata": {},
   "outputs": [],
   "source": [
    "torch.save(model,\"./model.pt\")"
   ]
  },
  {
   "cell_type": "code",
   "execution_count": 9,
   "metadata": {},
   "outputs": [
    {
     "name": "stderr",
     "output_type": "stream",
     "text": [
      "/tmp/ipykernel_2218/489378009.py:1: FutureWarning: You are using `torch.load` with `weights_only=False` (the current default value), which uses the default pickle module implicitly. It is possible to construct malicious pickle data which will execute arbitrary code during unpickling (See https://github.com/pytorch/pytorch/blob/main/SECURITY.md#untrusted-models for more details). In a future release, the default value for `weights_only` will be flipped to `True`. This limits the functions that could be executed during unpickling. Arbitrary objects will no longer be allowed to be loaded via this mode unless they are explicitly allowlisted by the user via `torch.serialization.add_safe_globals`. We recommend you start setting `weights_only=True` for any use case where you don't have full control of the loaded file. Please open an issue on GitHub for any issues related to this experimental feature.\n",
      "  model=torch.load(\"./model.pt\")\n"
     ]
    }
   ],
   "source": [
    "model=torch.load(\"./model.pt\")"
   ]
  },
  {
   "cell_type": "code",
   "execution_count": 11,
   "metadata": {},
   "outputs": [],
   "source": [
    "data,sr=librosa.load(\"/mnt/d/Programs/Python/PW/projects/asteroid/zip-hindi-2k/4.wav\",sr=8000,mono=True)"
   ]
  },
  {
   "cell_type": "code",
   "execution_count": 13,
   "metadata": {},
   "outputs": [
    {
     "data": {
      "text/plain": [
       "5.003625"
      ]
     },
     "execution_count": 13,
     "metadata": {},
     "output_type": "execute_result"
    }
   ],
   "source": [
    "len(data)/8000"
   ]
  },
  {
   "cell_type": "code",
   "execution_count": 14,
   "metadata": {},
   "outputs": [],
   "source": [
    "data=librosa.util.normalize(data)\n",
    "data=data[:8000*5]\n",
    "data=torch.from_numpy(data.reshape(5,8,1000))"
   ]
  },
  {
   "cell_type": "code",
   "execution_count": 16,
   "metadata": {},
   "outputs": [],
   "source": [
    "out=model(data.to('cuda'))"
   ]
  },
  {
   "cell_type": "code",
   "execution_count": 17,
   "metadata": {},
   "outputs": [
    {
     "data": {
      "text/plain": [
       "torch.Size([5, 2, 8, 1000])"
      ]
     },
     "execution_count": 17,
     "metadata": {},
     "output_type": "execute_result"
    }
   ],
   "source": [
    "out.shape"
   ]
  },
  {
   "cell_type": "code",
   "execution_count": 21,
   "metadata": {},
   "outputs": [
    {
     "name": "stdout",
     "output_type": "stream",
     "text": [
      "(40000,)\n"
     ]
    }
   ],
   "source": [
    "# out=out.cpu().detach().numpy()\n",
    "print(out[:,0,:,:].reshape(-1).shape)"
   ]
  },
  {
   "cell_type": "code",
   "execution_count": 22,
   "metadata": {},
   "outputs": [],
   "source": [
    "from IPython.display import Audio"
   ]
  },
  {
   "cell_type": "code",
   "execution_count": 23,
   "metadata": {},
   "outputs": [
    {
     "data": {
      "text/html": [
       "\n",
       "                <audio  controls=\"controls\" >\n",
       "                    <source src=\"data:audio/wav;base64,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\" type=\"audio/wav\" />\n",
       "                    Your browser does not support the audio element.\n",
       "                </audio>\n",
       "              "
      ],
      "text/plain": [
       "<IPython.lib.display.Audio object>"
      ]
     },
     "execution_count": 23,
     "metadata": {},
     "output_type": "execute_result"
    }
   ],
   "source": [
    "Audio(out[:,0,:,:].reshape(-1),rate=8000)"
   ]
  },
  {
   "cell_type": "code",
   "execution_count": 24,
   "metadata": {},
   "outputs": [
    {
     "data": {
      "text/html": [
       "\n",
       "                <audio  controls=\"controls\" >\n",
       "                    <source src=\"data:audio/wav;base64,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\" type=\"audio/wav\" />\n",
       "                    Your browser does not support the audio element.\n",
       "                </audio>\n",
       "              "
      ],
      "text/plain": [
       "<IPython.lib.display.Audio object>"
      ]
     },
     "execution_count": 24,
     "metadata": {},
     "output_type": "execute_result"
    }
   ],
   "source": [
    "Audio(out[:,1,:,:].reshape(-1),rate=8000)"
   ]
  },
  {
   "cell_type": "code",
   "execution_count": null,
   "metadata": {},
   "outputs": [],
   "source": []
  }
 ],
 "metadata": {
  "kernelspec": {
   "display_name": "speech-env",
   "language": "python",
   "name": "python3"
  },
  "language_info": {
   "codemirror_mode": {
    "name": "ipython",
    "version": 3
   },
   "file_extension": ".py",
   "mimetype": "text/x-python",
   "name": "python",
   "nbconvert_exporter": "python",
   "pygments_lexer": "ipython3",
   "version": "undefined.undefined.undefined"
  }
 },
 "nbformat": 4,
 "nbformat_minor": 2
}
