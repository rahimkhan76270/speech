{
  "cells": [
    {
      "cell_type": "code",
      "execution_count": null,
      "metadata": {
        "colab": {
          "base_uri": "https://localhost:8080/"
        },
        "collapsed": true,
        "id": "Zy9uUmNW6W3t",
        "outputId": "b75b9ee1-8c6b-4618-90ed-7ea0cdc2364a"
      },
      "outputs": [],
      "source": [
        "! pip install transformers sentence-transformers datasets"
      ]
    },
    {
      "cell_type": "code",
      "execution_count": null,
      "metadata": {
        "colab": {
          "base_uri": "https://localhost:8080/"
        },
        "id": "04G1SOJC9b9o",
        "outputId": "bc1ee0dc-c119-4e0a-a29a-9d46e73fc485"
      },
      "outputs": [
        {
          "name": "stderr",
          "output_type": "stream",
          "text": [
            "/usr/local/lib/python3.10/dist-packages/sentence_transformers/cross_encoder/CrossEncoder.py:11: TqdmExperimentalWarning: Using `tqdm.autonotebook.tqdm` in notebook mode. Use `tqdm.tqdm` instead to force console mode (e.g. in jupyter console)\n",
            "  from tqdm.autonotebook import tqdm, trange\n"
          ]
        }
      ],
      "source": [
        "from sentence_transformers import SentenceTransformer"
      ]
    },
    {
      "cell_type": "code",
      "execution_count": null,
      "metadata": {
        "colab": {
          "base_uri": "https://localhost:8080/"
        },
        "id": "IhliLoba9flS",
        "outputId": "bd25c80a-b91f-4116-c807-9db11305ad32"
      },
      "outputs": [
        {
          "name": "stderr",
          "output_type": "stream",
          "text": [
            "/root/.cache/huggingface/modules/transformers_modules/nomic-ai/nomic-bert-2048/4bb68f63016e88e53e48df904c6ab4e6f718e198/modeling_hf_nomic_bert.py:98: FutureWarning: You are using `torch.load` with `weights_only=False` (the current default value), which uses the default pickle module implicitly. It is possible to construct malicious pickle data which will execute arbitrary code during unpickling (See https://github.com/pytorch/pytorch/blob/main/SECURITY.md#untrusted-models for more details). In a future release, the default value for `weights_only` will be flipped to `True`. This limits the functions that could be executed during unpickling. Arbitrary objects will no longer be allowed to be loaded via this mode unless they are explicitly allowlisted by the user via `torch.serialization.add_safe_globals`. We recommend you start setting `weights_only=True` for any use case where you don't have full control of the loaded file. Please open an issue on GitHub for any issues related to this experimental feature.\n",
            "  state_dict = loader(resolved_archive_file)\n",
            "WARNING:transformers_modules.nomic-ai.nomic-bert-2048.4bb68f63016e88e53e48df904c6ab4e6f718e198.modeling_hf_nomic_bert:<All keys matched successfully>\n"
          ]
        }
      ],
      "source": [
        "model = SentenceTransformer(\"nomic-ai/nomic-embed-text-v1\", trust_remote_code=True)"
      ]
    },
    {
      "cell_type": "code",
      "execution_count": null,
      "metadata": {
        "colab": {
          "base_uri": "https://localhost:8080/"
        },
        "id": "GPZC8xy59JOd",
        "outputId": "f0485293-0999-4776-8317-7774b1868a01"
      },
      "outputs": [
        {
          "name": "stdout",
          "output_type": "stream",
          "text": [
            "[[ 0.02732478  0.03674266  0.00566182 -0.06184029 -0.00605241  0.01778554\n",
            "   0.00343781  0.0609616  -0.06671701  0.01929118 -0.04060122 -0.00813941\n",
            "   0.05528783 -0.02128627 -0.02402305 -0.00385319 -0.00216965  0.03088688\n",
            "  -0.04047235  0.00081532 -0.01230641 -0.04079557 -0.01422334 -0.06425538\n",
            "   0.03943079 -0.01887177  0.01208331  0.06296998 -0.00532067  0.00551077\n",
            "   0.04833798 -0.08553682  0.00555347 -0.02180647 -0.04104785  0.00592597\n",
            "  -0.01327778 -0.00374431  0.02366118 -0.00268185 -0.00689501 -0.04667205\n",
            "  -0.04891941 -0.0360591  -0.00533341  0.00458469  0.00959922 -0.02863372\n",
            "   0.00329643 -0.01281272 -0.03090267  0.00631105  0.03359436 -0.03586254\n",
            "   0.00650995  0.01468426 -0.00418664  0.01954121  0.09004181 -0.00615994\n",
            "  -0.01648144  0.05759052 -0.06432687  0.04895863  0.0242043  -0.03056631\n",
            "  -0.01849318  0.03216563  0.02615533 -0.04178089  0.02983617 -0.01276006\n",
            "   0.04216449  0.03713813  0.01381295 -0.01254978 -0.00165271 -0.04510703\n",
            "  -0.03989551  0.08904558 -0.01490431  0.0079172   0.00884488  0.02507643\n",
            "   0.0842724   0.02123705 -0.00109934  0.01663894 -0.05130856  0.06524669\n",
            "  -0.00490034  0.0117667   0.04078676  0.02421921 -0.06932465 -0.03952486\n",
            "   0.05331708  0.01520939 -0.00431664 -0.0188482  -0.00515939  0.0314398\n",
            "  -0.01287046 -0.02625015  0.04946668  0.06892212  0.02289098 -0.01975512\n",
            "   0.01225042  0.00670105 -0.00645889 -0.02043326  0.01217469 -0.00044837\n",
            "  -0.01754468 -0.02587141  0.08755823 -0.05236387  0.02730824  0.03629205\n",
            "   0.01086101 -0.02114864  0.00376299  0.04324526  0.00650233  0.02653057\n",
            "  -0.03302479  0.01710489  0.0026032  -0.02320862 -0.01213256  0.0234793\n",
            "   0.00201769 -0.02952229  0.02548994  0.05248522 -0.0674794  -0.00917954\n",
            "   0.06785882  0.02304193 -0.05400142  0.02856313 -0.01358411 -0.02135849\n",
            "  -0.00030688 -0.07144349 -0.03275706  0.00729213 -0.04035404  0.01198615\n",
            "   0.04817447 -0.0033817  -0.02118819 -0.03496702 -0.04131108 -0.05313615\n",
            "  -0.02507458  0.03738042  0.01612263  0.00797696 -0.01370173  0.02529796\n",
            "  -0.01786987  0.04525201 -0.05801487 -0.01157622 -0.00566522 -0.00993243\n",
            "   0.01241466  0.0012179  -0.02020727 -0.02101794  0.02651025  0.01820981\n",
            "   0.03039744  0.03190533 -0.02499431 -0.00248658  0.07053683  0.02701649\n",
            "   0.03010311  0.00927241  0.05066374  0.0574169  -0.00678266 -0.01615567\n",
            "   0.03936295 -0.06466715 -0.00931598 -0.03618601  0.02694539 -0.01292069\n",
            "   0.02054377 -0.03645364  0.01304277 -0.04156018  0.05114846 -0.02566239\n",
            "   0.01073383 -0.0051829  -0.04329774  0.02980681 -0.02125923  0.02879073\n",
            "  -0.04987934  0.01454723 -0.00789346  0.00753118  0.01876561  0.00766095\n",
            "   0.04437596  0.02477377  0.02387573  0.01966944 -0.03629209 -0.01390891\n",
            "  -0.02563596 -0.00093501 -0.02066855 -0.00900456  0.01766992 -0.04347833\n",
            "  -0.01164094  0.01238954  0.02664034 -0.06968792  0.02552331 -0.0034765\n",
            "  -0.03530563 -0.03499951 -0.01637252 -0.0440294   0.01092475 -0.01404902\n",
            "  -0.00149417 -0.00431722 -0.01448704  0.06491261  0.02007468  0.05356551\n",
            "   0.02005063  0.06999971  0.0080606  -0.01981769 -0.01137919 -0.001064\n",
            "  -0.03663902 -0.03840732  0.01433219  0.00764735 -0.03069974 -0.02165221\n",
            "  -0.05202282  0.01321228  0.00106871 -0.02446074 -0.01809288  0.08227129\n",
            "   0.01125908  0.00956635  0.03461744  0.06340544  0.03755284 -0.02395247\n",
            "   0.00361091 -0.02508149 -0.0354367   0.00554397  0.03884042 -0.02951677\n",
            "  -0.03251551  0.03602276  0.02400669  0.0327738   0.00124747 -0.00295039\n",
            "   0.09290235 -0.00088533 -0.07483257  0.02858814  0.01101722  0.00720351\n",
            "  -0.0377054   0.00150302 -0.00052976  0.07091381  0.06745333 -0.04030374\n",
            "  -0.0073436   0.01334069 -0.05397173 -0.0479377   0.01860734  0.0241526\n",
            "   0.00398638  0.05073395  0.07609892 -0.00480748  0.00015699 -0.01907051\n",
            "  -0.023845    0.03967038  0.07019363  0.0146717   0.06741743  0.01275852\n",
            "   0.03399081 -0.00463881  0.0347224   0.00305451 -0.06054966  0.01293782\n",
            "  -0.0051593   0.00186179 -0.01610861  0.06061262  0.02762294  0.00343293\n",
            "   0.00710651 -0.00384959  0.07210875 -0.02794728 -0.00216927 -0.07371023\n",
            "   0.01870997  0.07000214  0.03962732  0.04868135 -0.03376977 -0.00503054\n",
            "   0.03432766  0.0372399  -0.04512703 -0.01732808 -0.03036385  0.00387218\n",
            "  -0.03690374  0.06028045  0.06442159  0.01450019 -0.02865665 -0.03499706\n",
            "  -0.0361314  -0.0336058  -0.0016594  -0.02650424 -0.05058677 -0.0440256\n",
            "   0.04007376 -0.03014702 -0.02488758  0.04756981  0.00654502  0.02399261\n",
            "  -0.04251952  0.02687981 -0.01106609 -0.00386965 -0.00019401  0.0011487\n",
            "   0.03136945 -0.03714873 -0.03590475 -0.00942807  0.03210834  0.01224984\n",
            "   0.07103284  0.06442167  0.01657441 -0.05361858 -0.04697914 -0.02290474\n",
            "   0.00831447  0.03753962  0.02912914  0.01818543 -0.0773562   0.01274339\n",
            "  -0.02746429 -0.00870797  0.04706412  0.00691907 -0.01118788 -0.00755994\n",
            "   0.02087687 -0.03525243 -0.08421616 -0.03510997 -0.01835847 -0.02507977\n",
            "  -0.01267035 -0.07276051 -0.05015299  0.03900721  0.01072578  0.01739234\n",
            "   0.0135019   0.02741767  0.01466207 -0.02716531  0.02455872 -0.08855642\n",
            "   0.02137602  0.0319351  -0.01463216  0.012665   -0.00422773 -0.0215128\n",
            "   0.06464142  0.07018161 -0.00412297  0.01455819  0.004804   -0.06723663\n",
            "  -0.00313445 -0.02446658  0.0511291  -0.00092084 -0.00063352  0.01224118\n",
            "   0.02187178  0.07352895 -0.02206083  0.02999146  0.01711795  0.03481532\n",
            "   0.04326122 -0.01613512  0.00289847 -0.02187429  0.02313286 -0.00486132\n",
            "  -0.01231526  0.06413606 -0.03307578  0.03324686  0.077712   -0.00278974\n",
            "  -0.0464547   0.00416194 -0.01209817 -0.11299098 -0.00318675  0.00549777\n",
            "   0.01532815  0.06562513  0.06728012 -0.05664641 -0.02835377  0.06587014\n",
            "   0.07359587  0.01875277  0.02745456  0.03296334  0.06429628  0.00729344\n",
            "  -0.05041171 -0.0915546   0.03649975  0.01989391  0.02801547  0.02667526\n",
            "  -0.03700246  0.03738466  0.01255843 -0.000365    0.00427384  0.01026147\n",
            "   0.00851845  0.02212946  0.00319877  0.01839941  0.02827138  0.07256595\n",
            "  -0.05753893  0.01314598  0.02665871 -0.07587247  0.00674939  0.04177573\n",
            "  -0.0086637  -0.05508346 -0.02858139 -0.01537954 -0.06356847  0.05528199\n",
            "  -0.01134623 -0.01243102  0.02764677 -0.02463736  0.01160769  0.04084389\n",
            "   0.03430428 -0.0412414  -0.04482698 -0.03355857  0.02036431  0.01333845\n",
            "   0.01535275 -0.03033777 -0.00992107 -0.02976291  0.03326047 -0.00310852\n",
            "  -0.00380383 -0.0328297  -0.01309567 -0.08358189  0.01750853 -0.00920056\n",
            "  -0.04588649  0.03396834  0.02701683  0.04820767 -0.05705067 -0.05912859\n",
            "   0.07487015  0.00417054 -0.06867874  0.01082478  0.00454847 -0.02328741\n",
            "  -0.01874744  0.05198446 -0.03809707  0.01917148 -0.02482815 -0.02717447\n",
            "   0.00900245 -0.0175536   0.00691243 -0.01690296 -0.02287834 -0.02034474\n",
            "  -0.02347748 -0.04665401 -0.03916209  0.0519829  -0.00380426 -0.01455308\n",
            "  -0.00846596  0.00606674  0.02907043  0.00096303  0.04192173 -0.09531227\n",
            "  -0.03085261  0.0535157  -0.06468874 -0.0700517   0.01384488 -0.0389209\n",
            "   0.07619502 -0.10023449  0.02009402  0.00173098 -0.033592   -0.02883634\n",
            "   0.01080668 -0.02226822 -0.03138816  0.00213557 -0.01779562 -0.03368597\n",
            "  -0.0249716  -0.07623705 -0.02280834  0.01479656  0.03084358 -0.01865606\n",
            "  -0.03195142 -0.06606924  0.00452352 -0.00412532 -0.00039278 -0.03787141\n",
            "   0.05011949 -0.07013863 -0.07489495  0.03132622  0.01060398 -0.05123446\n",
            "  -0.02173755 -0.04547836 -0.05936588  0.03925352 -0.04078867 -0.03013428\n",
            "   0.02335952 -0.00864837  0.0071161  -0.00266873 -0.02427855  0.00971506\n",
            "   0.01456896  0.00597054 -0.03482334 -0.01843704 -0.00178982 -0.00823344\n",
            "   0.0113582   0.01171387  0.02785194 -0.04227488 -0.02300961  0.11380336\n",
            "  -0.01796066  0.0274586  -0.04188038 -0.03172936  0.04465714  0.00535048\n",
            "  -0.03056689 -0.02455908  0.02598026 -0.01975363  0.06473608 -0.031118\n",
            "   0.04825817 -0.04418221  0.01839925 -0.08253057  0.04709005  0.01501004\n",
            "   0.00665594  0.02296258 -0.02547045 -0.01540584  0.01272183  0.07244696\n",
            "  -0.02012793 -0.01234145 -0.01903934  0.00876851 -0.03835258  0.00094161\n",
            "  -0.03976855  0.01334044  0.03014368  0.08243058 -0.01329763 -0.04386613\n",
            "  -0.01081331 -0.00341551  0.03396289 -0.01748299  0.0031682   0.00741603\n",
            "  -0.03262172 -0.03231592  0.08115666  0.10084108 -0.0204527   0.01830333\n",
            "   0.02741455 -0.0251796   0.02197641 -0.03418738 -0.01755342 -0.02886435\n",
            "  -0.08455666 -0.0456501   0.01086344 -0.00774939  0.03854854 -0.03471667\n",
            "  -0.04702429 -0.03276666 -0.03155906 -0.0086262  -0.00749001 -0.00577063\n",
            "  -0.01926739  0.03427041 -0.0176494  -0.02893146  0.0040116   0.04076299\n",
            "  -0.02340556 -0.03311692 -0.00769822  0.08710114  0.01475352 -0.05099498\n",
            "   0.00243483  0.02010304 -0.00320039  0.03268328  0.01513142 -0.05826337\n",
            "   0.00336949  0.0154145  -0.00032633 -0.05256828  0.05265331  0.04248567\n",
            "  -0.03151678  0.01701612  0.01211272  0.0708778   0.00122165  0.05432279\n",
            "  -0.00925321  0.04136751 -0.03815097  0.02670798  0.01712211  0.0218774\n",
            "  -0.01258225  0.00468689 -0.05351404  0.05704582  0.0624329   0.05092083\n",
            "   0.00471736 -0.00214003 -0.00392074 -0.07485283 -0.01327498  0.01810289\n",
            "   0.02950488 -0.02320584 -0.03282164  0.02595191 -0.04115191 -0.0600526\n",
            "  -0.01766664  0.00566948  0.06409553  0.04945021 -0.00637036  0.01792656\n",
            "   0.00872735  0.06579877 -0.04641012  0.03690846  0.00152817  0.00134316\n",
            "  -0.03685724  0.01462741  0.01079045 -0.0089717   0.05046302 -0.01148656\n",
            "   0.00667715 -0.05506988 -0.05266406  0.0052557   0.01669076 -0.04953559\n",
            "  -0.01405357 -0.02331566 -0.0087612  -0.01287216 -0.0108243   0.03785046\n",
            "  -0.03184467  0.04588448  0.0115288  -0.0053846  -0.00031716  0.01545275\n",
            "   0.03380572  0.06642176  0.00110645  0.0517388  -0.01505557  0.00220463]]\n"
          ]
        }
      ],
      "source": [
        "sentences = ['search_document: TSNE is a dimensionality reduction algorithm created by Laurens van Der Maaten']\n",
        "embeddings = model.encode(sentences)\n",
        "print(embeddings)\n"
      ]
    },
    {
      "cell_type": "code",
      "execution_count": null,
      "metadata": {
        "colab": {
          "base_uri": "https://localhost:8080/"
        },
        "id": "pWtIAUbY9o5y",
        "outputId": "b446964f-6c51-4c7b-fbe9-0c31ebee2dc0"
      },
      "outputs": [
        {
          "name": "stdout",
          "output_type": "stream",
          "text": [
            "<class 'numpy.ndarray'>\n"
          ]
        }
      ],
      "source": [
        "print(type(embeddings))"
      ]
    },
    {
      "cell_type": "code",
      "execution_count": null,
      "metadata": {
        "colab": {
          "base_uri": "https://localhost:8080/"
        },
        "id": "pSB-hYdw9zJH",
        "outputId": "341fb58e-2eae-4929-a4a8-8acb46251b04"
      },
      "outputs": [
        {
          "data": {
            "text/plain": [
              "(768,)"
            ]
          },
          "execution_count": 6,
          "metadata": {},
          "output_type": "execute_result"
        }
      ],
      "source": [
        "embeddings.squeeze().shape"
      ]
    },
    {
      "cell_type": "code",
      "execution_count": 4,
      "metadata": {
        "id": "HnwEuV9A-PF4"
      },
      "outputs": [],
      "source": [
        "import pandas as pd\n",
        "import numpy as np\n",
        "\n",
        "# df = pd.read_csv(\"hf://datasets/florentgbelidji/car-reviews/train_car.csv\")"
      ]
    },
    {
      "cell_type": "code",
      "execution_count": null,
      "metadata": {},
      "outputs": [],
      "source": []
    },
    {
      "cell_type": "code",
      "execution_count": null,
      "metadata": {
        "colab": {
          "base_uri": "https://localhost:8080/",
          "height": 518
        },
        "id": "clHPR30f-__G",
        "outputId": "ca83c803-6c24-4b8c-af43-15282f8adcd1"
      },
      "outputs": [
        {
          "data": {
            "application/vnd.google.colaboratory.intrinsic+json": {
              "summary": "{\n  \"name\": \"df\",\n  \"rows\": 36984,\n  \"fields\": [\n    {\n      \"column\": \"Unnamed: 0.1\",\n      \"properties\": {\n        \"dtype\": \"number\",\n        \"std\": 5863,\n        \"min\": 0,\n        \"max\": 22701,\n        \"num_unique_values\": 20984,\n        \"samples\": [\n          3325,\n          18648,\n          8469\n        ],\n        \"semantic_type\": \"\",\n        \"description\": \"\"\n      }\n    },\n    {\n      \"column\": \"Unnamed: 0\",\n      \"properties\": {\n        \"dtype\": \"number\",\n        \"std\": 4876,\n        \"min\": 0,\n        \"max\": 18746,\n        \"num_unique_values\": 18493,\n        \"samples\": [\n          14526,\n          15553,\n          5308\n        ],\n        \"semantic_type\": \"\",\n        \"description\": \"\"\n      }\n    },\n    {\n      \"column\": \"Review_Date\",\n      \"properties\": {\n        \"dtype\": \"string\",\n        \"num_unique_values\": 31882,\n        \"samples\": [\n          \" on 06/08/16 15:15 PM (PDT)\",\n          \" on 12/16/16 18:22 PM (PST)\",\n          \" on 11/02/05 23:40 PM (PST)\"\n        ],\n        \"semantic_type\": \"\",\n        \"description\": \"\"\n      }\n    },\n    {\n      \"column\": \"Author_Name\",\n      \"properties\": {\n        \"dtype\": \"string\",\n        \"num_unique_values\": 29523,\n        \"samples\": [\n          \"butch \",\n          \"gran1 \",\n          \"manatee624 \"\n        ],\n        \"semantic_type\": \"\",\n        \"description\": \"\"\n      }\n    },\n    {\n      \"column\": \"Vehicle_Title\",\n      \"properties\": {\n        \"dtype\": \"category\",\n        \"num_unique_values\": 4882,\n        \"samples\": [\n          \"2011 Nissan Altima Sedan 2.5 4dr Sedan (2.5L 4cyl CVT)\",\n          \"2016 Toyota Tacoma Double Cab Limited 4dr Double Cab 4WD 5.0 ft. SB (3.5L 6cyl 6A)\",\n          \"2008 Nissan Versa Hatchback 1.8 S 4dr Hatchback (1.8L 4cyl 4A)\"\n        ],\n        \"semantic_type\": \"\",\n        \"description\": \"\"\n      }\n    },\n    {\n      \"column\": \"Review_Title\",\n      \"properties\": {\n        \"dtype\": \"string\",\n        \"num_unique_values\": 31003,\n        \"samples\": [\n          \"My First Car\",\n          \"Zombie car\",\n          \"Really overrated.\"\n        ],\n        \"semantic_type\": \"\",\n        \"description\": \"\"\n      }\n    },\n    {\n      \"column\": \"Review\",\n      \"properties\": {\n        \"dtype\": \"string\",\n        \"num_unique_values\": 36629,\n        \"samples\": [\n          \" I just purchased a BMW X5 3.0i.  It is \\rgreat, the interior quality is just \\rsuperb.  The exterior is gorgous.  \\rFuel economy is ok, but not great.\",\n          \" I had vowed never to buy one of these but finally broke down because of where we were in life.  Went through the Sienna vs. Odyssey torture test and finally decided on the Sienna Limited.  The price was right and this was the closest thing we could find to a luxury minivan.  Sure, for the first few weeks I felt like an emasculated male driving this thing but I have to say it is growing on me and I can see why these things are so darn popular. Our other family car is a MB GL450 - love it but we are taking the Sienna on our next road trip.  Better mileage and more space.  The van is just too easy to get to like.     \",\n          \" Overall, it is a great car. It looks as good as it performs. Solid performance thanks to the competition package. The competition package is an alternative for those who don't want to get aftermarket upgrade but want more for their M3.  However, there are some electrical problems with the radio and the bluetooth connection for cell phone; not all cell phone can connect via bluetooth.  The gas mileage is not bad. Got about 300 miles per a tank, 65%highway and 35% highway. If driving locally, a full tank will only give 220 miles.  The exterior looks great all around. Need a wing spoiler to complete the aggressive look.  The front seats is great. Back seats are very comfortable.\"\n        ],\n        \"semantic_type\": \"\",\n        \"description\": \"\"\n      }\n    },\n    {\n      \"column\": \"Rating\",\n      \"properties\": {\n        \"dtype\": \"number\",\n        \"std\": 0,\n        \"min\": 1,\n        \"max\": 5,\n        \"num_unique_values\": 5,\n        \"samples\": [\n          3,\n          1,\n          4\n        ],\n        \"semantic_type\": \"\",\n        \"description\": \"\"\n      }\n    }\n  ]\n}",
              "type": "dataframe",
              "variable_name": "df"
            },
            "text/html": [
              "\n",
              "  <div id=\"df-e43d09c3-8e8b-4db6-9020-20359e923584\" class=\"colab-df-container\">\n",
              "    <div>\n",
              "<style scoped>\n",
              "    .dataframe tbody tr th:only-of-type {\n",
              "        vertical-align: middle;\n",
              "    }\n",
              "\n",
              "    .dataframe tbody tr th {\n",
              "        vertical-align: top;\n",
              "    }\n",
              "\n",
              "    .dataframe thead th {\n",
              "        text-align: right;\n",
              "    }\n",
              "</style>\n",
              "<table border=\"1\" class=\"dataframe\">\n",
              "  <thead>\n",
              "    <tr style=\"text-align: right;\">\n",
              "      <th></th>\n",
              "      <th>Unnamed: 0.1</th>\n",
              "      <th>Unnamed: 0</th>\n",
              "      <th>Review_Date</th>\n",
              "      <th>Author_Name</th>\n",
              "      <th>Vehicle_Title</th>\n",
              "      <th>Review_Title</th>\n",
              "      <th>Review</th>\n",
              "      <th>Rating</th>\n",
              "    </tr>\n",
              "  </thead>\n",
              "  <tbody>\n",
              "    <tr>\n",
              "      <th>0</th>\n",
              "      <td>0</td>\n",
              "      <td>0</td>\n",
              "      <td>on 02/02/17 19:53 PM (PST)</td>\n",
              "      <td>Ricardo</td>\n",
              "      <td>1997 Toyota Previa Minivan LE 3dr Minivan</td>\n",
              "      <td>great vehicle, Toyota best design ever. thank you</td>\n",
              "      <td>there is no way back, enjoy what you have .</td>\n",
              "      <td>5</td>\n",
              "    </tr>\n",
              "    <tr>\n",
              "      <th>1</th>\n",
              "      <td>1</td>\n",
              "      <td>1</td>\n",
              "      <td>on 12/17/16 16:40 PM (PST)</td>\n",
              "      <td>matt</td>\n",
              "      <td>1997 Toyota Previa Minivan LE All-Trac 3dr Min...</td>\n",
              "      <td>my 4th previa, best van ever made!</td>\n",
              "      <td>1st 95 went over 300k before being totalled b...</td>\n",
              "      <td>5</td>\n",
              "    </tr>\n",
              "    <tr>\n",
              "      <th>2</th>\n",
              "      <td>2</td>\n",
              "      <td>2</td>\n",
              "      <td>on 04/14/10 07:43 AM (PDT)</td>\n",
              "      <td>Joel G</td>\n",
              "      <td>1997 Toyota Previa Minivan LE 3dr Minivan</td>\n",
              "      <td>Mom's Taxi Babies Ride</td>\n",
              "      <td>Sold 86 Toyota Van 285K miles to be replaced ...</td>\n",
              "      <td>5</td>\n",
              "    </tr>\n",
              "    <tr>\n",
              "      <th>3</th>\n",
              "      <td>3</td>\n",
              "      <td>3</td>\n",
              "      <td>on 11/12/08 17:31 PM (PST)</td>\n",
              "      <td>Dennis</td>\n",
              "      <td>1997 Toyota Previa Minivan LE All-Trac 3dr Min...</td>\n",
              "      <td>My Favorite Van Ever</td>\n",
              "      <td>I have owned lots of vans, and the Previa is ...</td>\n",
              "      <td>5</td>\n",
              "    </tr>\n",
              "    <tr>\n",
              "      <th>4</th>\n",
              "      <td>4</td>\n",
              "      <td>4</td>\n",
              "      <td>on 04/14/08 22:47 PM (PDT)</td>\n",
              "      <td>Alf Skrastins</td>\n",
              "      <td>1997 Toyota Previa Minivan LE All-Trac 3dr Min...</td>\n",
              "      <td>Best Minivan ever</td>\n",
              "      <td>My 1997 AWD Previa is the third one that I ha...</td>\n",
              "      <td>5</td>\n",
              "    </tr>\n",
              "  </tbody>\n",
              "</table>\n",
              "</div>\n",
              "    <div class=\"colab-df-buttons\">\n",
              "\n",
              "  <div class=\"colab-df-container\">\n",
              "    <button class=\"colab-df-convert\" onclick=\"convertToInteractive('df-e43d09c3-8e8b-4db6-9020-20359e923584')\"\n",
              "            title=\"Convert this dataframe to an interactive table.\"\n",
              "            style=\"display:none;\">\n",
              "\n",
              "  <svg xmlns=\"http://www.w3.org/2000/svg\" height=\"24px\" viewBox=\"0 -960 960 960\">\n",
              "    <path d=\"M120-120v-720h720v720H120Zm60-500h600v-160H180v160Zm220 220h160v-160H400v160Zm0 220h160v-160H400v160ZM180-400h160v-160H180v160Zm440 0h160v-160H620v160ZM180-180h160v-160H180v160Zm440 0h160v-160H620v160Z\"/>\n",
              "  </svg>\n",
              "    </button>\n",
              "\n",
              "  <style>\n",
              "    .colab-df-container {\n",
              "      display:flex;\n",
              "      gap: 12px;\n",
              "    }\n",
              "\n",
              "    .colab-df-convert {\n",
              "      background-color: #E8F0FE;\n",
              "      border: none;\n",
              "      border-radius: 50%;\n",
              "      cursor: pointer;\n",
              "      display: none;\n",
              "      fill: #1967D2;\n",
              "      height: 32px;\n",
              "      padding: 0 0 0 0;\n",
              "      width: 32px;\n",
              "    }\n",
              "\n",
              "    .colab-df-convert:hover {\n",
              "      background-color: #E2EBFA;\n",
              "      box-shadow: 0px 1px 2px rgba(60, 64, 67, 0.3), 0px 1px 3px 1px rgba(60, 64, 67, 0.15);\n",
              "      fill: #174EA6;\n",
              "    }\n",
              "\n",
              "    .colab-df-buttons div {\n",
              "      margin-bottom: 4px;\n",
              "    }\n",
              "\n",
              "    [theme=dark] .colab-df-convert {\n",
              "      background-color: #3B4455;\n",
              "      fill: #D2E3FC;\n",
              "    }\n",
              "\n",
              "    [theme=dark] .colab-df-convert:hover {\n",
              "      background-color: #434B5C;\n",
              "      box-shadow: 0px 1px 3px 1px rgba(0, 0, 0, 0.15);\n",
              "      filter: drop-shadow(0px 1px 2px rgba(0, 0, 0, 0.3));\n",
              "      fill: #FFFFFF;\n",
              "    }\n",
              "  </style>\n",
              "\n",
              "    <script>\n",
              "      const buttonEl =\n",
              "        document.querySelector('#df-e43d09c3-8e8b-4db6-9020-20359e923584 button.colab-df-convert');\n",
              "      buttonEl.style.display =\n",
              "        google.colab.kernel.accessAllowed ? 'block' : 'none';\n",
              "\n",
              "      async function convertToInteractive(key) {\n",
              "        const element = document.querySelector('#df-e43d09c3-8e8b-4db6-9020-20359e923584');\n",
              "        const dataTable =\n",
              "          await google.colab.kernel.invokeFunction('convertToInteractive',\n",
              "                                                    [key], {});\n",
              "        if (!dataTable) return;\n",
              "\n",
              "        const docLinkHtml = 'Like what you see? Visit the ' +\n",
              "          '<a target=\"_blank\" href=https://colab.research.google.com/notebooks/data_table.ipynb>data table notebook</a>'\n",
              "          + ' to learn more about interactive tables.';\n",
              "        element.innerHTML = '';\n",
              "        dataTable['output_type'] = 'display_data';\n",
              "        await google.colab.output.renderOutput(dataTable, element);\n",
              "        const docLink = document.createElement('div');\n",
              "        docLink.innerHTML = docLinkHtml;\n",
              "        element.appendChild(docLink);\n",
              "      }\n",
              "    </script>\n",
              "  </div>\n",
              "\n",
              "\n",
              "<div id=\"df-427b5f20-42d3-4775-bcd5-f7f5b02c9ca3\">\n",
              "  <button class=\"colab-df-quickchart\" onclick=\"quickchart('df-427b5f20-42d3-4775-bcd5-f7f5b02c9ca3')\"\n",
              "            title=\"Suggest charts\"\n",
              "            style=\"display:none;\">\n",
              "\n",
              "<svg xmlns=\"http://www.w3.org/2000/svg\" height=\"24px\"viewBox=\"0 0 24 24\"\n",
              "     width=\"24px\">\n",
              "    <g>\n",
              "        <path d=\"M19 3H5c-1.1 0-2 .9-2 2v14c0 1.1.9 2 2 2h14c1.1 0 2-.9 2-2V5c0-1.1-.9-2-2-2zM9 17H7v-7h2v7zm4 0h-2V7h2v10zm4 0h-2v-4h2v4z\"/>\n",
              "    </g>\n",
              "</svg>\n",
              "  </button>\n",
              "\n",
              "<style>\n",
              "  .colab-df-quickchart {\n",
              "      --bg-color: #E8F0FE;\n",
              "      --fill-color: #1967D2;\n",
              "      --hover-bg-color: #E2EBFA;\n",
              "      --hover-fill-color: #174EA6;\n",
              "      --disabled-fill-color: #AAA;\n",
              "      --disabled-bg-color: #DDD;\n",
              "  }\n",
              "\n",
              "  [theme=dark] .colab-df-quickchart {\n",
              "      --bg-color: #3B4455;\n",
              "      --fill-color: #D2E3FC;\n",
              "      --hover-bg-color: #434B5C;\n",
              "      --hover-fill-color: #FFFFFF;\n",
              "      --disabled-bg-color: #3B4455;\n",
              "      --disabled-fill-color: #666;\n",
              "  }\n",
              "\n",
              "  .colab-df-quickchart {\n",
              "    background-color: var(--bg-color);\n",
              "    border: none;\n",
              "    border-radius: 50%;\n",
              "    cursor: pointer;\n",
              "    display: none;\n",
              "    fill: var(--fill-color);\n",
              "    height: 32px;\n",
              "    padding: 0;\n",
              "    width: 32px;\n",
              "  }\n",
              "\n",
              "  .colab-df-quickchart:hover {\n",
              "    background-color: var(--hover-bg-color);\n",
              "    box-shadow: 0 1px 2px rgba(60, 64, 67, 0.3), 0 1px 3px 1px rgba(60, 64, 67, 0.15);\n",
              "    fill: var(--button-hover-fill-color);\n",
              "  }\n",
              "\n",
              "  .colab-df-quickchart-complete:disabled,\n",
              "  .colab-df-quickchart-complete:disabled:hover {\n",
              "    background-color: var(--disabled-bg-color);\n",
              "    fill: var(--disabled-fill-color);\n",
              "    box-shadow: none;\n",
              "  }\n",
              "\n",
              "  .colab-df-spinner {\n",
              "    border: 2px solid var(--fill-color);\n",
              "    border-color: transparent;\n",
              "    border-bottom-color: var(--fill-color);\n",
              "    animation:\n",
              "      spin 1s steps(1) infinite;\n",
              "  }\n",
              "\n",
              "  @keyframes spin {\n",
              "    0% {\n",
              "      border-color: transparent;\n",
              "      border-bottom-color: var(--fill-color);\n",
              "      border-left-color: var(--fill-color);\n",
              "    }\n",
              "    20% {\n",
              "      border-color: transparent;\n",
              "      border-left-color: var(--fill-color);\n",
              "      border-top-color: var(--fill-color);\n",
              "    }\n",
              "    30% {\n",
              "      border-color: transparent;\n",
              "      border-left-color: var(--fill-color);\n",
              "      border-top-color: var(--fill-color);\n",
              "      border-right-color: var(--fill-color);\n",
              "    }\n",
              "    40% {\n",
              "      border-color: transparent;\n",
              "      border-right-color: var(--fill-color);\n",
              "      border-top-color: var(--fill-color);\n",
              "    }\n",
              "    60% {\n",
              "      border-color: transparent;\n",
              "      border-right-color: var(--fill-color);\n",
              "    }\n",
              "    80% {\n",
              "      border-color: transparent;\n",
              "      border-right-color: var(--fill-color);\n",
              "      border-bottom-color: var(--fill-color);\n",
              "    }\n",
              "    90% {\n",
              "      border-color: transparent;\n",
              "      border-bottom-color: var(--fill-color);\n",
              "    }\n",
              "  }\n",
              "</style>\n",
              "\n",
              "  <script>\n",
              "    async function quickchart(key) {\n",
              "      const quickchartButtonEl =\n",
              "        document.querySelector('#' + key + ' button');\n",
              "      quickchartButtonEl.disabled = true;  // To prevent multiple clicks.\n",
              "      quickchartButtonEl.classList.add('colab-df-spinner');\n",
              "      try {\n",
              "        const charts = await google.colab.kernel.invokeFunction(\n",
              "            'suggestCharts', [key], {});\n",
              "      } catch (error) {\n",
              "        console.error('Error during call to suggestCharts:', error);\n",
              "      }\n",
              "      quickchartButtonEl.classList.remove('colab-df-spinner');\n",
              "      quickchartButtonEl.classList.add('colab-df-quickchart-complete');\n",
              "    }\n",
              "    (() => {\n",
              "      let quickchartButtonEl =\n",
              "        document.querySelector('#df-427b5f20-42d3-4775-bcd5-f7f5b02c9ca3 button');\n",
              "      quickchartButtonEl.style.display =\n",
              "        google.colab.kernel.accessAllowed ? 'block' : 'none';\n",
              "    })();\n",
              "  </script>\n",
              "</div>\n",
              "\n",
              "    </div>\n",
              "  </div>\n"
            ],
            "text/plain": [
              "   Unnamed: 0.1  Unnamed: 0                  Review_Date     Author_Name  \\\n",
              "0             0           0   on 02/02/17 19:53 PM (PST)        Ricardo    \n",
              "1             1           1   on 12/17/16 16:40 PM (PST)           matt    \n",
              "2             2           2   on 04/14/10 07:43 AM (PDT)         Joel G    \n",
              "3             3           3   on 11/12/08 17:31 PM (PST)         Dennis    \n",
              "4             4           4   on 04/14/08 22:47 PM (PDT)  Alf Skrastins    \n",
              "\n",
              "                                       Vehicle_Title  \\\n",
              "0          1997 Toyota Previa Minivan LE 3dr Minivan   \n",
              "1  1997 Toyota Previa Minivan LE All-Trac 3dr Min...   \n",
              "2          1997 Toyota Previa Minivan LE 3dr Minivan   \n",
              "3  1997 Toyota Previa Minivan LE All-Trac 3dr Min...   \n",
              "4  1997 Toyota Previa Minivan LE All-Trac 3dr Min...   \n",
              "\n",
              "                                        Review_Title  \\\n",
              "0  great vehicle, Toyota best design ever. thank you   \n",
              "1                 my 4th previa, best van ever made!   \n",
              "2                             Mom's Taxi Babies Ride   \n",
              "3                               My Favorite Van Ever   \n",
              "4                                  Best Minivan ever   \n",
              "\n",
              "                                              Review  Rating  \n",
              "0        there is no way back, enjoy what you have .       5  \n",
              "1   1st 95 went over 300k before being totalled b...       5  \n",
              "2   Sold 86 Toyota Van 285K miles to be replaced ...       5  \n",
              "3   I have owned lots of vans, and the Previa is ...       5  \n",
              "4   My 1997 AWD Previa is the third one that I ha...       5  "
            ]
          },
          "execution_count": 8,
          "metadata": {},
          "output_type": "execute_result"
        }
      ],
      "source": [
        "df.head()"
      ]
    },
    {
      "cell_type": "code",
      "execution_count": null,
      "metadata": {
        "id": "muDnhojz_DHw"
      },
      "outputs": [],
      "source": [
        "df['embedding']=df['Review'].apply(lambda x: model.encode(x,device='cuda'))"
      ]
    },
    {
      "cell_type": "code",
      "execution_count": null,
      "metadata": {
        "colab": {
          "base_uri": "https://localhost:8080/",
          "height": 798
        },
        "id": "_WQq6qiz_TEB",
        "outputId": "8790a901-3c08-453b-fbb4-402aba584f1e"
      },
      "outputs": [
        {
          "data": {
            "application/vnd.google.colaboratory.intrinsic+json": {
              "summary": "{\n  \"name\": \"df\",\n  \"rows\": 36984,\n  \"fields\": [\n    {\n      \"column\": \"Unnamed: 0.1\",\n      \"properties\": {\n        \"dtype\": \"number\",\n        \"std\": 5863,\n        \"min\": 0,\n        \"max\": 22701,\n        \"num_unique_values\": 20984,\n        \"samples\": [\n          3325,\n          18648,\n          8469\n        ],\n        \"semantic_type\": \"\",\n        \"description\": \"\"\n      }\n    },\n    {\n      \"column\": \"Unnamed: 0\",\n      \"properties\": {\n        \"dtype\": \"number\",\n        \"std\": 4876,\n        \"min\": 0,\n        \"max\": 18746,\n        \"num_unique_values\": 18493,\n        \"samples\": [\n          14526,\n          15553,\n          5308\n        ],\n        \"semantic_type\": \"\",\n        \"description\": \"\"\n      }\n    },\n    {\n      \"column\": \"Review_Date\",\n      \"properties\": {\n        \"dtype\": \"string\",\n        \"num_unique_values\": 31882,\n        \"samples\": [\n          \" on 06/08/16 15:15 PM (PDT)\",\n          \" on 12/16/16 18:22 PM (PST)\",\n          \" on 11/02/05 23:40 PM (PST)\"\n        ],\n        \"semantic_type\": \"\",\n        \"description\": \"\"\n      }\n    },\n    {\n      \"column\": \"Author_Name\",\n      \"properties\": {\n        \"dtype\": \"string\",\n        \"num_unique_values\": 29523,\n        \"samples\": [\n          \"butch \",\n          \"gran1 \",\n          \"manatee624 \"\n        ],\n        \"semantic_type\": \"\",\n        \"description\": \"\"\n      }\n    },\n    {\n      \"column\": \"Vehicle_Title\",\n      \"properties\": {\n        \"dtype\": \"category\",\n        \"num_unique_values\": 4882,\n        \"samples\": [\n          \"2011 Nissan Altima Sedan 2.5 4dr Sedan (2.5L 4cyl CVT)\",\n          \"2016 Toyota Tacoma Double Cab Limited 4dr Double Cab 4WD 5.0 ft. SB (3.5L 6cyl 6A)\",\n          \"2008 Nissan Versa Hatchback 1.8 S 4dr Hatchback (1.8L 4cyl 4A)\"\n        ],\n        \"semantic_type\": \"\",\n        \"description\": \"\"\n      }\n    },\n    {\n      \"column\": \"Review_Title\",\n      \"properties\": {\n        \"dtype\": \"string\",\n        \"num_unique_values\": 31003,\n        \"samples\": [\n          \"My First Car\",\n          \"Zombie car\",\n          \"Really overrated.\"\n        ],\n        \"semantic_type\": \"\",\n        \"description\": \"\"\n      }\n    },\n    {\n      \"column\": \"Review\",\n      \"properties\": {\n        \"dtype\": \"string\",\n        \"num_unique_values\": 36629,\n        \"samples\": [\n          \" I just purchased a BMW X5 3.0i.  It is \\rgreat, the interior quality is just \\rsuperb.  The exterior is gorgous.  \\rFuel economy is ok, but not great.\",\n          \" I had vowed never to buy one of these but finally broke down because of where we were in life.  Went through the Sienna vs. Odyssey torture test and finally decided on the Sienna Limited.  The price was right and this was the closest thing we could find to a luxury minivan.  Sure, for the first few weeks I felt like an emasculated male driving this thing but I have to say it is growing on me and I can see why these things are so darn popular. Our other family car is a MB GL450 - love it but we are taking the Sienna on our next road trip.  Better mileage and more space.  The van is just too easy to get to like.     \",\n          \" Overall, it is a great car. It looks as good as it performs. Solid performance thanks to the competition package. The competition package is an alternative for those who don't want to get aftermarket upgrade but want more for their M3.  However, there are some electrical problems with the radio and the bluetooth connection for cell phone; not all cell phone can connect via bluetooth.  The gas mileage is not bad. Got about 300 miles per a tank, 65%highway and 35% highway. If driving locally, a full tank will only give 220 miles.  The exterior looks great all around. Need a wing spoiler to complete the aggressive look.  The front seats is great. Back seats are very comfortable.\"\n        ],\n        \"semantic_type\": \"\",\n        \"description\": \"\"\n      }\n    },\n    {\n      \"column\": \"Rating\",\n      \"properties\": {\n        \"dtype\": \"number\",\n        \"std\": 0,\n        \"min\": 1,\n        \"max\": 5,\n        \"num_unique_values\": 5,\n        \"samples\": [\n          3,\n          1,\n          4\n        ],\n        \"semantic_type\": \"\",\n        \"description\": \"\"\n      }\n    },\n    {\n      \"column\": \"embedding\",\n      \"properties\": {\n        \"dtype\": \"object\",\n        \"semantic_type\": \"\",\n        \"description\": \"\"\n      }\n    }\n  ]\n}",
              "type": "dataframe",
              "variable_name": "df"
            },
            "text/html": [
              "\n",
              "  <div id=\"df-c1bdbf35-00ba-4304-8e7b-9e8c6f1e5660\" class=\"colab-df-container\">\n",
              "    <div>\n",
              "<style scoped>\n",
              "    .dataframe tbody tr th:only-of-type {\n",
              "        vertical-align: middle;\n",
              "    }\n",
              "\n",
              "    .dataframe tbody tr th {\n",
              "        vertical-align: top;\n",
              "    }\n",
              "\n",
              "    .dataframe thead th {\n",
              "        text-align: right;\n",
              "    }\n",
              "</style>\n",
              "<table border=\"1\" class=\"dataframe\">\n",
              "  <thead>\n",
              "    <tr style=\"text-align: right;\">\n",
              "      <th></th>\n",
              "      <th>Unnamed: 0.1</th>\n",
              "      <th>Unnamed: 0</th>\n",
              "      <th>Review_Date</th>\n",
              "      <th>Author_Name</th>\n",
              "      <th>Vehicle_Title</th>\n",
              "      <th>Review_Title</th>\n",
              "      <th>Review</th>\n",
              "      <th>Rating</th>\n",
              "      <th>embedding</th>\n",
              "    </tr>\n",
              "  </thead>\n",
              "  <tbody>\n",
              "    <tr>\n",
              "      <th>0</th>\n",
              "      <td>0</td>\n",
              "      <td>0</td>\n",
              "      <td>on 02/02/17 19:53 PM (PST)</td>\n",
              "      <td>Ricardo</td>\n",
              "      <td>1997 Toyota Previa Minivan LE 3dr Minivan</td>\n",
              "      <td>great vehicle, Toyota best design ever. thank you</td>\n",
              "      <td>there is no way back, enjoy what you have .</td>\n",
              "      <td>5</td>\n",
              "      <td>[0.053673934, 0.06767913, -0.013086928, 0.0272...</td>\n",
              "    </tr>\n",
              "    <tr>\n",
              "      <th>1</th>\n",
              "      <td>1</td>\n",
              "      <td>1</td>\n",
              "      <td>on 12/17/16 16:40 PM (PST)</td>\n",
              "      <td>matt</td>\n",
              "      <td>1997 Toyota Previa Minivan LE All-Trac 3dr Min...</td>\n",
              "      <td>my 4th previa, best van ever made!</td>\n",
              "      <td>1st 95 went over 300k before being totalled b...</td>\n",
              "      <td>5</td>\n",
              "      <td>[0.005083805, 0.0019153366, -0.005132915, -0.0...</td>\n",
              "    </tr>\n",
              "    <tr>\n",
              "      <th>2</th>\n",
              "      <td>2</td>\n",
              "      <td>2</td>\n",
              "      <td>on 04/14/10 07:43 AM (PDT)</td>\n",
              "      <td>Joel G</td>\n",
              "      <td>1997 Toyota Previa Minivan LE 3dr Minivan</td>\n",
              "      <td>Mom's Taxi Babies Ride</td>\n",
              "      <td>Sold 86 Toyota Van 285K miles to be replaced ...</td>\n",
              "      <td>5</td>\n",
              "      <td>[-0.0028427325, -0.0046601836, -0.008226009, -...</td>\n",
              "    </tr>\n",
              "    <tr>\n",
              "      <th>3</th>\n",
              "      <td>3</td>\n",
              "      <td>3</td>\n",
              "      <td>on 11/12/08 17:31 PM (PST)</td>\n",
              "      <td>Dennis</td>\n",
              "      <td>1997 Toyota Previa Minivan LE All-Trac 3dr Min...</td>\n",
              "      <td>My Favorite Van Ever</td>\n",
              "      <td>I have owned lots of vans, and the Previa is ...</td>\n",
              "      <td>5</td>\n",
              "      <td>[-0.0067575523, 0.037473675, -0.0034601751, 0....</td>\n",
              "    </tr>\n",
              "    <tr>\n",
              "      <th>4</th>\n",
              "      <td>4</td>\n",
              "      <td>4</td>\n",
              "      <td>on 04/14/08 22:47 PM (PDT)</td>\n",
              "      <td>Alf Skrastins</td>\n",
              "      <td>1997 Toyota Previa Minivan LE All-Trac 3dr Min...</td>\n",
              "      <td>Best Minivan ever</td>\n",
              "      <td>My 1997 AWD Previa is the third one that I ha...</td>\n",
              "      <td>5</td>\n",
              "      <td>[0.06362331, 0.021934025, -0.01011532, 0.01613...</td>\n",
              "    </tr>\n",
              "  </tbody>\n",
              "</table>\n",
              "</div>\n",
              "    <div class=\"colab-df-buttons\">\n",
              "\n",
              "  <div class=\"colab-df-container\">\n",
              "    <button class=\"colab-df-convert\" onclick=\"convertToInteractive('df-c1bdbf35-00ba-4304-8e7b-9e8c6f1e5660')\"\n",
              "            title=\"Convert this dataframe to an interactive table.\"\n",
              "            style=\"display:none;\">\n",
              "\n",
              "  <svg xmlns=\"http://www.w3.org/2000/svg\" height=\"24px\" viewBox=\"0 -960 960 960\">\n",
              "    <path d=\"M120-120v-720h720v720H120Zm60-500h600v-160H180v160Zm220 220h160v-160H400v160Zm0 220h160v-160H400v160ZM180-400h160v-160H180v160Zm440 0h160v-160H620v160ZM180-180h160v-160H180v160Zm440 0h160v-160H620v160Z\"/>\n",
              "  </svg>\n",
              "    </button>\n",
              "\n",
              "  <style>\n",
              "    .colab-df-container {\n",
              "      display:flex;\n",
              "      gap: 12px;\n",
              "    }\n",
              "\n",
              "    .colab-df-convert {\n",
              "      background-color: #E8F0FE;\n",
              "      border: none;\n",
              "      border-radius: 50%;\n",
              "      cursor: pointer;\n",
              "      display: none;\n",
              "      fill: #1967D2;\n",
              "      height: 32px;\n",
              "      padding: 0 0 0 0;\n",
              "      width: 32px;\n",
              "    }\n",
              "\n",
              "    .colab-df-convert:hover {\n",
              "      background-color: #E2EBFA;\n",
              "      box-shadow: 0px 1px 2px rgba(60, 64, 67, 0.3), 0px 1px 3px 1px rgba(60, 64, 67, 0.15);\n",
              "      fill: #174EA6;\n",
              "    }\n",
              "\n",
              "    .colab-df-buttons div {\n",
              "      margin-bottom: 4px;\n",
              "    }\n",
              "\n",
              "    [theme=dark] .colab-df-convert {\n",
              "      background-color: #3B4455;\n",
              "      fill: #D2E3FC;\n",
              "    }\n",
              "\n",
              "    [theme=dark] .colab-df-convert:hover {\n",
              "      background-color: #434B5C;\n",
              "      box-shadow: 0px 1px 3px 1px rgba(0, 0, 0, 0.15);\n",
              "      filter: drop-shadow(0px 1px 2px rgba(0, 0, 0, 0.3));\n",
              "      fill: #FFFFFF;\n",
              "    }\n",
              "  </style>\n",
              "\n",
              "    <script>\n",
              "      const buttonEl =\n",
              "        document.querySelector('#df-c1bdbf35-00ba-4304-8e7b-9e8c6f1e5660 button.colab-df-convert');\n",
              "      buttonEl.style.display =\n",
              "        google.colab.kernel.accessAllowed ? 'block' : 'none';\n",
              "\n",
              "      async function convertToInteractive(key) {\n",
              "        const element = document.querySelector('#df-c1bdbf35-00ba-4304-8e7b-9e8c6f1e5660');\n",
              "        const dataTable =\n",
              "          await google.colab.kernel.invokeFunction('convertToInteractive',\n",
              "                                                    [key], {});\n",
              "        if (!dataTable) return;\n",
              "\n",
              "        const docLinkHtml = 'Like what you see? Visit the ' +\n",
              "          '<a target=\"_blank\" href=https://colab.research.google.com/notebooks/data_table.ipynb>data table notebook</a>'\n",
              "          + ' to learn more about interactive tables.';\n",
              "        element.innerHTML = '';\n",
              "        dataTable['output_type'] = 'display_data';\n",
              "        await google.colab.output.renderOutput(dataTable, element);\n",
              "        const docLink = document.createElement('div');\n",
              "        docLink.innerHTML = docLinkHtml;\n",
              "        element.appendChild(docLink);\n",
              "      }\n",
              "    </script>\n",
              "  </div>\n",
              "\n",
              "\n",
              "<div id=\"df-823cb8ae-c9b1-4676-a8d3-59a8cfcbb949\">\n",
              "  <button class=\"colab-df-quickchart\" onclick=\"quickchart('df-823cb8ae-c9b1-4676-a8d3-59a8cfcbb949')\"\n",
              "            title=\"Suggest charts\"\n",
              "            style=\"display:none;\">\n",
              "\n",
              "<svg xmlns=\"http://www.w3.org/2000/svg\" height=\"24px\"viewBox=\"0 0 24 24\"\n",
              "     width=\"24px\">\n",
              "    <g>\n",
              "        <path d=\"M19 3H5c-1.1 0-2 .9-2 2v14c0 1.1.9 2 2 2h14c1.1 0 2-.9 2-2V5c0-1.1-.9-2-2-2zM9 17H7v-7h2v7zm4 0h-2V7h2v10zm4 0h-2v-4h2v4z\"/>\n",
              "    </g>\n",
              "</svg>\n",
              "  </button>\n",
              "\n",
              "<style>\n",
              "  .colab-df-quickchart {\n",
              "      --bg-color: #E8F0FE;\n",
              "      --fill-color: #1967D2;\n",
              "      --hover-bg-color: #E2EBFA;\n",
              "      --hover-fill-color: #174EA6;\n",
              "      --disabled-fill-color: #AAA;\n",
              "      --disabled-bg-color: #DDD;\n",
              "  }\n",
              "\n",
              "  [theme=dark] .colab-df-quickchart {\n",
              "      --bg-color: #3B4455;\n",
              "      --fill-color: #D2E3FC;\n",
              "      --hover-bg-color: #434B5C;\n",
              "      --hover-fill-color: #FFFFFF;\n",
              "      --disabled-bg-color: #3B4455;\n",
              "      --disabled-fill-color: #666;\n",
              "  }\n",
              "\n",
              "  .colab-df-quickchart {\n",
              "    background-color: var(--bg-color);\n",
              "    border: none;\n",
              "    border-radius: 50%;\n",
              "    cursor: pointer;\n",
              "    display: none;\n",
              "    fill: var(--fill-color);\n",
              "    height: 32px;\n",
              "    padding: 0;\n",
              "    width: 32px;\n",
              "  }\n",
              "\n",
              "  .colab-df-quickchart:hover {\n",
              "    background-color: var(--hover-bg-color);\n",
              "    box-shadow: 0 1px 2px rgba(60, 64, 67, 0.3), 0 1px 3px 1px rgba(60, 64, 67, 0.15);\n",
              "    fill: var(--button-hover-fill-color);\n",
              "  }\n",
              "\n",
              "  .colab-df-quickchart-complete:disabled,\n",
              "  .colab-df-quickchart-complete:disabled:hover {\n",
              "    background-color: var(--disabled-bg-color);\n",
              "    fill: var(--disabled-fill-color);\n",
              "    box-shadow: none;\n",
              "  }\n",
              "\n",
              "  .colab-df-spinner {\n",
              "    border: 2px solid var(--fill-color);\n",
              "    border-color: transparent;\n",
              "    border-bottom-color: var(--fill-color);\n",
              "    animation:\n",
              "      spin 1s steps(1) infinite;\n",
              "  }\n",
              "\n",
              "  @keyframes spin {\n",
              "    0% {\n",
              "      border-color: transparent;\n",
              "      border-bottom-color: var(--fill-color);\n",
              "      border-left-color: var(--fill-color);\n",
              "    }\n",
              "    20% {\n",
              "      border-color: transparent;\n",
              "      border-left-color: var(--fill-color);\n",
              "      border-top-color: var(--fill-color);\n",
              "    }\n",
              "    30% {\n",
              "      border-color: transparent;\n",
              "      border-left-color: var(--fill-color);\n",
              "      border-top-color: var(--fill-color);\n",
              "      border-right-color: var(--fill-color);\n",
              "    }\n",
              "    40% {\n",
              "      border-color: transparent;\n",
              "      border-right-color: var(--fill-color);\n",
              "      border-top-color: var(--fill-color);\n",
              "    }\n",
              "    60% {\n",
              "      border-color: transparent;\n",
              "      border-right-color: var(--fill-color);\n",
              "    }\n",
              "    80% {\n",
              "      border-color: transparent;\n",
              "      border-right-color: var(--fill-color);\n",
              "      border-bottom-color: var(--fill-color);\n",
              "    }\n",
              "    90% {\n",
              "      border-color: transparent;\n",
              "      border-bottom-color: var(--fill-color);\n",
              "    }\n",
              "  }\n",
              "</style>\n",
              "\n",
              "  <script>\n",
              "    async function quickchart(key) {\n",
              "      const quickchartButtonEl =\n",
              "        document.querySelector('#' + key + ' button');\n",
              "      quickchartButtonEl.disabled = true;  // To prevent multiple clicks.\n",
              "      quickchartButtonEl.classList.add('colab-df-spinner');\n",
              "      try {\n",
              "        const charts = await google.colab.kernel.invokeFunction(\n",
              "            'suggestCharts', [key], {});\n",
              "      } catch (error) {\n",
              "        console.error('Error during call to suggestCharts:', error);\n",
              "      }\n",
              "      quickchartButtonEl.classList.remove('colab-df-spinner');\n",
              "      quickchartButtonEl.classList.add('colab-df-quickchart-complete');\n",
              "    }\n",
              "    (() => {\n",
              "      let quickchartButtonEl =\n",
              "        document.querySelector('#df-823cb8ae-c9b1-4676-a8d3-59a8cfcbb949 button');\n",
              "      quickchartButtonEl.style.display =\n",
              "        google.colab.kernel.accessAllowed ? 'block' : 'none';\n",
              "    })();\n",
              "  </script>\n",
              "</div>\n",
              "\n",
              "    </div>\n",
              "  </div>\n"
            ],
            "text/plain": [
              "   Unnamed: 0.1  Unnamed: 0                  Review_Date     Author_Name  \\\n",
              "0             0           0   on 02/02/17 19:53 PM (PST)        Ricardo    \n",
              "1             1           1   on 12/17/16 16:40 PM (PST)           matt    \n",
              "2             2           2   on 04/14/10 07:43 AM (PDT)         Joel G    \n",
              "3             3           3   on 11/12/08 17:31 PM (PST)         Dennis    \n",
              "4             4           4   on 04/14/08 22:47 PM (PDT)  Alf Skrastins    \n",
              "\n",
              "                                       Vehicle_Title  \\\n",
              "0          1997 Toyota Previa Minivan LE 3dr Minivan   \n",
              "1  1997 Toyota Previa Minivan LE All-Trac 3dr Min...   \n",
              "2          1997 Toyota Previa Minivan LE 3dr Minivan   \n",
              "3  1997 Toyota Previa Minivan LE All-Trac 3dr Min...   \n",
              "4  1997 Toyota Previa Minivan LE All-Trac 3dr Min...   \n",
              "\n",
              "                                        Review_Title  \\\n",
              "0  great vehicle, Toyota best design ever. thank you   \n",
              "1                 my 4th previa, best van ever made!   \n",
              "2                             Mom's Taxi Babies Ride   \n",
              "3                               My Favorite Van Ever   \n",
              "4                                  Best Minivan ever   \n",
              "\n",
              "                                              Review  Rating  \\\n",
              "0        there is no way back, enjoy what you have .       5   \n",
              "1   1st 95 went over 300k before being totalled b...       5   \n",
              "2   Sold 86 Toyota Van 285K miles to be replaced ...       5   \n",
              "3   I have owned lots of vans, and the Previa is ...       5   \n",
              "4   My 1997 AWD Previa is the third one that I ha...       5   \n",
              "\n",
              "                                           embedding  \n",
              "0  [0.053673934, 0.06767913, -0.013086928, 0.0272...  \n",
              "1  [0.005083805, 0.0019153366, -0.005132915, -0.0...  \n",
              "2  [-0.0028427325, -0.0046601836, -0.008226009, -...  \n",
              "3  [-0.0067575523, 0.037473675, -0.0034601751, 0....  \n",
              "4  [0.06362331, 0.021934025, -0.01011532, 0.01613...  "
            ]
          },
          "execution_count": 10,
          "metadata": {},
          "output_type": "execute_result"
        }
      ],
      "source": [
        "df.head()"
      ]
    },
    {
      "cell_type": "code",
      "execution_count": null,
      "metadata": {
        "colab": {
          "base_uri": "https://localhost:8080/"
        },
        "id": "4J_ANi5tEnD2",
        "outputId": "bc4d1b4e-0047-4e66-dc95-e77c40dc071d"
      },
      "outputs": [
        {
          "data": {
            "text/plain": [
              "(36984, 9)"
            ]
          },
          "execution_count": 11,
          "metadata": {},
          "output_type": "execute_result"
        }
      ],
      "source": [
        "df.shape"
      ]
    },
    {
      "cell_type": "code",
      "execution_count": null,
      "metadata": {
        "id": "brRq5wzAEulo"
      },
      "outputs": [],
      "source": [
        "df['embedding']=df['embedding'].apply(lambda x: x.squeeze().tolist())"
      ]
    },
    {
      "cell_type": "code",
      "execution_count": null,
      "metadata": {
        "id": "ppqA7c42E5rm"
      },
      "outputs": [],
      "source": [
        "embeddings=df['embedding'].to_list()"
      ]
    },
    {
      "cell_type": "code",
      "execution_count": null,
      "metadata": {
        "colab": {
          "base_uri": "https://localhost:8080/"
        },
        "id": "9625_RQnFVN9",
        "outputId": "5d3f843b-3cde-47e2-dfcf-d88f502f7371"
      },
      "outputs": [
        {
          "data": {
            "text/plain": [
              "36984"
            ]
          },
          "execution_count": 14,
          "metadata": {},
          "output_type": "execute_result"
        }
      ],
      "source": [
        "len(embeddings)"
      ]
    },
    {
      "cell_type": "code",
      "execution_count": null,
      "metadata": {
        "colab": {
          "base_uri": "https://localhost:8080/"
        },
        "id": "qoKwA8zrF46J",
        "outputId": "fa0bc77f-1769-434b-82bc-77bdf0a388eb"
      },
      "outputs": [
        {
          "data": {
            "text/plain": [
              "(36984, 768)"
            ]
          },
          "execution_count": 16,
          "metadata": {},
          "output_type": "execute_result"
        }
      ],
      "source": [
        "embs=np.array(embeddings)\n",
        "embs.shape"
      ]
    },
    {
      "cell_type": "code",
      "execution_count": 52,
      "metadata": {
        "id": "yZTdf8-UF_QI"
      },
      "outputs": [],
      "source": [
        "v_M=embs.max()\n",
        "v_m=embs.min()"
      ]
    },
    {
      "cell_type": "code",
      "execution_count": 53,
      "metadata": {},
      "outputs": [
        {
          "data": {
            "text/plain": [
              "(0.552067178125509, -0.2028598951922469)"
            ]
          },
          "execution_count": 53,
          "metadata": {},
          "output_type": "execute_result"
        }
      ],
      "source": [
        "v_M,v_m"
      ]
    },
    {
      "cell_type": "code",
      "execution_count": 20,
      "metadata": {
        "id": "FA1UxNrOGomq"
      },
      "outputs": [],
      "source": [
        "n=768"
      ]
    },
    {
      "cell_type": "code",
      "execution_count": 54,
      "metadata": {
        "id": "lLXbAlSkG4yU"
      },
      "outputs": [],
      "source": [
        "var=embs.var()"
      ]
    },
    {
      "cell_type": "code",
      "execution_count": 55,
      "metadata": {},
      "outputs": [
        {
          "data": {
            "text/plain": [
              "0.0013020822106577419"
            ]
          },
          "execution_count": 55,
          "metadata": {},
          "output_type": "execute_result"
        }
      ],
      "source": [
        "var"
      ]
    },
    {
      "cell_type": "code",
      "execution_count": 56,
      "metadata": {
        "id": "_EHfJa_xG9p4"
      },
      "outputs": [],
      "source": [
        "distances=[]\n",
        "for v1 in embs[:1000]:\n",
        "  for v2 in embs[:1000]:\n",
        "    distances.append(np.linalg.norm(v1-v2))"
      ]
    },
    {
      "cell_type": "code",
      "execution_count": 57,
      "metadata": {
        "colab": {
          "base_uri": "https://localhost:8080/"
        },
        "id": "6EAWoV-GHhbh",
        "outputId": "9c226450-23f3-4a09-961c-11d30de2eb68"
      },
      "outputs": [
        {
          "name": "stdout",
          "output_type": "stream",
          "text": [
            "[0.0, 1.0864244951682835, 1.1158956530283624, 1.0815848117759328, 1.0987504562003283, 1.0771580803166925, 1.1150752709604368, 1.0938096173738288, 1.1101260219844151, 1.058106773033864]\n"
          ]
        }
      ],
      "source": [
        "print(distances[0:10])"
      ]
    },
    {
      "cell_type": "code",
      "execution_count": 58,
      "metadata": {
        "id": "u8jQP5qlWBkA"
      },
      "outputs": [
        {
          "name": "stdout",
          "output_type": "stream",
          "text": [
            "0.9322858459193971\n"
          ]
        }
      ],
      "source": [
        "mean=np.mean(distances)\n",
        "print(mean)"
      ]
    },
    {
      "cell_type": "code",
      "execution_count": 59,
      "metadata": {
        "id": "vEyKiWZAWFf7"
      },
      "outputs": [],
      "source": [
        "diem=((v_M-v_m)/var)*(np.linalg.norm(embs[0]-embs[1])-mean)"
      ]
    },
    {
      "cell_type": "code",
      "execution_count": 60,
      "metadata": {
        "colab": {
          "base_uri": "https://localhost:8080/"
        },
        "id": "Z4ps9y1aWmIK",
        "outputId": "90c52ee2-e1be-4033-b835-a5a0933bdbff"
      },
      "outputs": [
        {
          "name": "stdout",
          "output_type": "stream",
          "text": [
            "89.36719848421352\n"
          ]
        }
      ],
      "source": [
        "print(diem)"
      ]
    },
    {
      "cell_type": "code",
      "execution_count": null,
      "metadata": {
        "id": "iokLYxHZW-W8"
      },
      "outputs": [],
      "source": [
        "df.to_csv(\"embeddings.csv\",index=False)"
      ]
    },
    {
      "cell_type": "code",
      "execution_count": 2,
      "metadata": {
        "id": "3HVSl9VUXLou"
      },
      "outputs": [],
      "source": [
        "df=pd.read_csv('/mnt/d/Programs/Python/PW/projects/speech/embeddings/DIEM/embeddings.csv')"
      ]
    },
    {
      "cell_type": "code",
      "execution_count": 13,
      "metadata": {},
      "outputs": [],
      "source": [
        "df['embedding'] = df['embedding'].apply(lambda x: np.fromstring(x.strip(\"[]\"), sep=', '))"
      ]
    },
    {
      "cell_type": "code",
      "execution_count": 48,
      "metadata": {},
      "outputs": [],
      "source": [
        "df['embedding']=df['embedding'].apply(lambda x:x/np.linalg.norm(x,ord=2))"
      ]
    },
    {
      "cell_type": "code",
      "execution_count": 61,
      "metadata": {},
      "outputs": [],
      "source": [
        "embeddings=np.array(df['embedding'].to_list())"
      ]
    },
    {
      "cell_type": "code",
      "execution_count": 50,
      "metadata": {},
      "outputs": [
        {
          "data": {
            "text/plain": [
              "(36984, 768)"
            ]
          },
          "execution_count": 50,
          "metadata": {},
          "output_type": "execute_result"
        }
      ],
      "source": [
        "embeddings.shape"
      ]
    },
    {
      "cell_type": "code",
      "execution_count": 51,
      "metadata": {},
      "outputs": [],
      "source": [
        "embs=embeddings"
      ]
    },
    {
      "cell_type": "code",
      "execution_count": 62,
      "metadata": {},
      "outputs": [],
      "source": [
        "def DIEM(mean,var,v_M,v_m,v1,v2):\n",
        "    diem=(np.linalg.norm(v1-v2,ord=2)-mean)*(v_M-v_m)/var\n",
        "    return diem"
      ]
    },
    {
      "cell_type": "code",
      "execution_count": 69,
      "metadata": {},
      "outputs": [
        {
          "data": {
            "text/plain": [
              "89.36719848421352"
            ]
          },
          "execution_count": 69,
          "metadata": {},
          "output_type": "execute_result"
        }
      ],
      "source": [
        "# %%timeit\n",
        "DIEM(mean,var,v_M,v_m,embs[0],embs[1])"
      ]
    },
    {
      "cell_type": "code",
      "execution_count": 33,
      "metadata": {},
      "outputs": [],
      "source": [
        "from sklearn.metrics.pairwise import cosine_similarity"
      ]
    },
    {
      "cell_type": "code",
      "execution_count": 67,
      "metadata": {},
      "outputs": [
        {
          "data": {
            "text/plain": [
              "array([[0.37738845]])"
            ]
          },
          "execution_count": 67,
          "metadata": {},
          "output_type": "execute_result"
        }
      ],
      "source": [
        "# %%timeit\n",
        "cosine_similarity(embs[0].reshape(1,-1),embs[2].reshape(1,-1))"
      ]
    },
    {
      "cell_type": "code",
      "execution_count": 65,
      "metadata": {},
      "outputs": [
        {
          "data": {
            "text/plain": [
              "73.30316742081448"
            ]
          },
          "execution_count": 65,
          "metadata": {},
          "output_type": "execute_result"
        }
      ],
      "source": [
        "486/6.63"
      ]
    },
    {
      "cell_type": "code",
      "execution_count": null,
      "metadata": {},
      "outputs": [],
      "source": []
    }
  ],
  "metadata": {
    "accelerator": "GPU",
    "colab": {
      "gpuType": "T4",
      "provenance": []
    },
    "kernelspec": {
      "display_name": "Python 3",
      "name": "python3"
    },
    "language_info": {
      "codemirror_mode": {
        "name": "ipython",
        "version": 3
      },
      "file_extension": ".py",
      "mimetype": "text/x-python",
      "name": "python",
      "nbconvert_exporter": "python",
      "pygments_lexer": "ipython3",
      "version": "3.12.0"
    }
  },
  "nbformat": 4,
  "nbformat_minor": 0
}
